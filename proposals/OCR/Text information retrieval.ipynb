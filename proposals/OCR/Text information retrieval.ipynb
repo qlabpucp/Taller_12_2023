{
 "cells": [
  {
   "cell_type": "markdown",
   "id": "836f5076-1e2d-447c-b9cb-25a7abbbafd3",
   "metadata": {},
   "source": [
    "## 2. Text retrieval with PyPDF2"
   ]
  },
  {
   "cell_type": "markdown",
   "id": "32746bfb-7ff8-4bac-868f-143474574b5a",
   "metadata": {},
   "source": [
    "`PyPDF2` is a Python library specifically tailored for extracting information from PDF documents. It simplifies the task of retrieving text and metadata. Now, we'll explore PyPDF2 for PDF text extraction. We'll begin with extracting text from a single PDF."
   ]
  },
  {
   "cell_type": "code",
   "execution_count": 2,
   "id": "43e3bfd9-bb6f-4d08-975f-99411c425fd9",
   "metadata": {},
   "outputs": [],
   "source": [
    "from PyPDF2 import PdfReader\n",
    "import os\n",
    "import re\n",
    "import glob\n",
    "import pandas as pd"
   ]
  },
  {
   "cell_type": "code",
   "execution_count": 3,
   "id": "629ac49c-f419-4365-b332-dc932889d6ce",
   "metadata": {},
   "outputs": [
    {
     "name": "stdout",
     "output_type": "stream",
     "text": [
      "Text successfully extracted\n"
     ]
    }
   ],
   "source": [
    "pdf_path = '../data/Part_I/Congressional_Bills/pdf_docs/PL0668820231218.pdf'\n",
    "reader   = PdfReader( pdf_path )\n",
    "n_pages  = len( reader.pages )\n",
    "\n",
    "try:\n",
    "    extracted_text = [ reader.pages[ i ].extract_text() for i in range( n_pages ) ]\n",
    "    print( 'Text successfully extracted' )\n",
    "\n",
    "except:\n",
    "    extracted_text = []\n",
    "    print( 'Text not found' )"
   ]
  },
  {
   "cell_type": "markdown",
   "id": "54a73ade-34d9-4943-a885-174b73a13eab",
   "metadata": {},
   "source": [
    "Once extracted, we can access to number of pages"
   ]
  },
  {
   "cell_type": "code",
   "execution_count": 4,
   "id": "828fc7ff-971e-48e3-b695-8dd20e22428f",
   "metadata": {},
   "outputs": [
    {
     "name": "stdout",
     "output_type": "stream",
     "text": [
      "Number of pages: 13\n"
     ]
    }
   ],
   "source": [
    "print( f'Number of pages: { n_pages }' )"
   ]
  },
  {
   "cell_type": "markdown",
   "id": "51343298-9344-42f6-a6de-7d4acde5df9b",
   "metadata": {},
   "source": [
    "We can access to the extracted text as well. We can start showing text for the first two pages."
   ]
  },
  {
   "cell_type": "code",
   "execution_count": 5,
   "id": "92d2ffb8-4665-46bb-9a44-a3116fd4be5b",
   "metadata": {
    "collapsed": true,
    "jupyter": {
     "outputs_hidden": true
    }
   },
   "outputs": [
    {
     "data": {
      "text/plain": [
       "['CeNGOIESO OE LA PIE PuaLicg \\nM&o TRIALIITE GOCumENIA,RIO \\n18 DIC. 2023 \\nR 15:351,LS lo\\n:IV; 9 \\nCONI9RESO\\n4 REPÚBLICA Proyecto de ley N° .. 1/2 Ci2 3 \" \\nNIEVES ESMERALDA LIMACHI QUISPE \\nCongresista de la República \\n\\'Decenio de ta Igualdad de Oportunidades para Mueres y Hombres\" \\n\\'Ano de la unidad, la paz y el desarrollo\\'\" \\nProyecto de Ley que establece \\nparámetros para el saneamiento de la \\npropiedad de los posesionarios de \\nvivienda construidas con recursos del \\nFONAVI. \\nLos Congresistas de la República que suscriben, a iniciativa de la Congresista NIEVES \\nESMERALDA LIMACHI QUISPE, miembro del Grupo Parlamentario \"Cambio \\nDemocrático - Juntos Por el Perú\", en ejercicio del derecho de iniciativa legislativa que \\nle confieren el artículo 107\\' de la Constitución Política del Perú, y de conformidad con los \\nartículos 22° inciso c), 75° y 76° del Reglamento del Congreso de la República, proponen \\nel siguiente Proyecto de Ley: \\nFÓRMULA LEGAL \\nEl Congreso de la República \\nHa dado la Ley siguiente: \\nLEY QUE ESTABLECE PARÁMETROS PARA EL SANEAMIENTO DE LA \\nPROPIEDAD DE LOS POSESIONARIOS DE VIVIENDA CONSTRUIDAS CON \\nRECURSOS DEL FONAVI \\nARTICULO 1. Objeto de la Ley \\nLa presente ley tiene por objeto, modificar los artículos 8, 9,10 y 11, de la Ley 31173, Ley \\nque garantiza el cumplimiento de la ley 29625, ley de devolución de dinero del Fonavi a los \\ntrabajadores que contribuyeron al mismo, priorizando a la población vulnerable, como \\nconsecuencia de la pandemia de la COVID-19; a fin de establecer los parámetros para el \\nsaneamiento de la propiedad de los posesionarios de vivienda construidas con recursos del \\nFONAVI. \\nARTICULO 2. Modificación de los artículos 8, 9, 10 y 11 de la Ley 31173, Ley que \\ngarantiza el cumplimiento de la ley 29625, ley de devolución de dinero del Fonavi a \\nlos trabajadores que contribuyeron al mismo, priorizando a la población vulnerable, \\ncomo consecuencia de la pandemia de la COVID-19. \\nSe modifican los artículos 8, 9,10 y 11 de la Ley 31173, Ley que garantiza el \\ncumplimiento de la ley 29625, ley de devolución de dinero del Fonavi a los \\n',\n",
       " 'CONGRESO\\nREPUlliTC —A NIEVES ESMERALDA LIMACHI QUISPE \\nCongresista de la República \\n\"Decenio de la Igualdad de Oportunidades para Mojares y Hombres\" \\n\",4f70 de la unidad, la paz y el desarrollo\" \\nProyecto de Ley que establece \\nparámetros para el saneamiento de la \\npropiedad de los posesionarios de \\nvivienda construidas con recursos del \\nFONAVI \\ntrabajadores que contribuyeron al mismo, priorizando a la población vulnerable, \\ncomo consecuencia de la pandemia de la COVID-19, en los siguientes términos: \\nArtículo 8. Determinación de criterios para el pago de deuda para el \\nsaneamiento de inmueble \\nEl criterio aplicable para calcular el pago de la deuda o cumplimiento cancelatorio \\nde la obligación contractual que mantienen los posesionarios y/o titulares de un bien \\ninmueble con el FONAVI será el capital invertido por el FONAVI en el terreno o el \\nvalor de la construcción del inmueble. \\nSi el posesionario es titular registral del predio o tiene contrato resuelto la deuda \\nserá el saldo del capital, que se descontará el pago inicial y las letras \\ncanceladas del contrato original, tasación retrospectiva y de acuerdo a la RM. \\nNro.088-98-PRES, otorgado por el FONAVI; se aplica el que más favorece al \\nadquiriente. El pago de saneamiento de inmueble será realizando la \\nrestructuración de la deuda, no se considerará ningún tipo de interés_ \\nSi el posesionario no es titular registral del predio, la deuda será el monto original \\nque invirtió FONAVI. \\nArtículo 9. Facilidades del pago para los posesionarios-beneficíarios \\n9.1 Las deudas a las que se refiere la presente ley pueden ser fraccionadas \\nhasta por un plazo de diez (10) años en cuotas mensuales. \\n9.2 Para casos de pagos al contado, con contrato primigenio o sin contrato \\nprimigenio se otorgará un descuento del veinticinco por ciento (25%) sobre \\nel monto total de la deuda determinada a pagar \\n9.3 La cuota inicial será la primera letra del contrato. \\n9.4 Se deberá aperturar cuentas individuales en el Banco de la Nación a \\nnombre de la Comisión Ad Hoc - FONAVI para efectuar los pagos de la \\ncuota inicial y cuotas mensuales de los adquirientes. \\n9.5 Para la resolución del contrato será dejando de pagar seis (06) letras \\nvencidas \\n9.6 La firma del nuevo contrato será con una tasa de interés legal anual no \\nmayor de 1 70, sin variaciones durante el tiempo que dure el contrato. \\n9.7 No se solicitará partida registral del predio y certificado registral \\nnegativo de propiedad, así como firma de constancias referidas al \\nmismo fin, e inspección ocular por contar con contratos primigenios. \\n9.8 Al concluir el pago al contado o al crédito la Comisión Ad Hoc - FONAVI \\nentregará una Constancia de No Adeudo y en 15 días hábiles la \\ndocumentación respectiva para inscripción en SUNARP. \\n2 \\n']"
      ]
     },
     "execution_count": 5,
     "metadata": {},
     "output_type": "execute_result"
    }
   ],
   "source": [
    "extracted_text[ : 2 ]"
   ]
  },
  {
   "cell_type": "markdown",
   "id": "af081aee-da8f-451d-9984-30e649b5463e",
   "metadata": {},
   "source": [
    "We can combine text for all the pages"
   ]
  },
  {
   "cell_type": "code",
   "execution_count": 6,
   "id": "bb04a84b-dad2-4adf-947d-77681fb71170",
   "metadata": {
    "collapsed": true,
    "jupyter": {
     "outputs_hidden": true
    },
    "scrolled": true
   },
   "outputs": [
    {
     "data": {
      "text/plain": [
       "'CeNGOIESO OE LA PIE PuaLicg \\nM&o TRIALIITE GOCumENIA,RIO \\n18 DIC. 2023 \\nR 15:351,LS lo\\n:IV; 9 \\nCONI9RESO\\n4 REPÚBLICA Proyecto de ley N° .. 1/2 Ci2 3 \" \\nNIEVES ESMERALDA LIMACHI QUISPE \\nCongresista de la República \\n\\'Decenio de ta Igualdad de Oportunidades para Mueres y Hombres\" \\n\\'Ano de la unidad, la paz y el desarrollo\\'\" \\nProyecto de Ley que establece \\nparámetros para el saneamiento de la \\npropiedad de los posesionarios de \\nvivienda construidas con recursos del \\nFONAVI. \\nLos Congresistas de la República que suscriben, a iniciativa de la Congresista NIEVES \\nESMERALDA LIMACHI QUISPE, miembro del Grupo Parlamentario \"Cambio \\nDemocrático - Juntos Por el Perú\", en ejercicio del derecho de iniciativa legislativa que \\nle confieren el artículo 107\\' de la Constitución Política del Perú, y de conformidad con los \\nartículos 22° inciso c), 75° y 76° del Reglamento del Congreso de la República, proponen \\nel siguiente Proyecto de Ley: \\nFÓRMULA LEGAL \\nEl Congreso de la República \\nHa dado la Ley siguiente: \\nLEY QUE ESTABLECE PARÁMETROS PARA EL SANEAMIENTO DE LA \\nPROPIEDAD DE LOS POSESIONARIOS DE VIVIENDA CONSTRUIDAS CON \\nRECURSOS DEL FONAVI \\nARTICULO 1. Objeto de la Ley \\nLa presente ley tiene por objeto, modificar los artículos 8, 9,10 y 11, de la Ley 31173, Ley \\nque garantiza el cumplimiento de la ley 29625, ley de devolución de dinero del Fonavi a los \\ntrabajadores que contribuyeron al mismo, priorizando a la población vulnerable, como \\nconsecuencia de la pandemia de la COVID-19; a fin de establecer los parámetros para el \\nsaneamiento de la propiedad de los posesionarios de vivienda construidas con recursos del \\nFONAVI. \\nARTICULO 2. Modificación de los artículos 8, 9, 10 y 11 de la Ley 31173, Ley que \\ngarantiza el cumplimiento de la ley 29625, ley de devolución de dinero del Fonavi a \\nlos trabajadores que contribuyeron al mismo, priorizando a la población vulnerable, \\ncomo consecuencia de la pandemia de la COVID-19. \\nSe modifican los artículos 8, 9,10 y 11 de la Ley 31173, Ley que garantiza el \\ncumplimiento de la ley 29625, ley de devolución de dinero del Fonavi a los \\n\\nCONGRESO\\nREPUlliTC —A NIEVES ESMERALDA LIMACHI QUISPE \\nCongresista de la República \\n\"Decenio de la Igualdad de Oportunidades para Mojares y Hombres\" \\n\",4f70 de la unidad, la paz y el desarrollo\" \\nProyecto de Ley que establece \\nparámetros para el saneamiento de la \\npropiedad de los posesionarios de \\nvivienda construidas con recursos del \\nFONAVI \\ntrabajadores que contribuyeron al mismo, priorizando a la población vulnerable, \\ncomo consecuencia de la pandemia de la COVID-19, en los siguientes términos: \\nArtículo 8. Determinación de criterios para el pago de deuda para el \\nsaneamiento de inmueble \\nEl criterio aplicable para calcular el pago de la deuda o cumplimiento cancelatorio \\nde la obligación contractual que mantienen los posesionarios y/o titulares de un bien \\ninmueble con el FONAVI será el capital invertido por el FONAVI en el terreno o el \\nvalor de la construcción del inmueble. \\nSi el posesionario es titular registral del predio o tiene contrato resuelto la deuda \\nserá el saldo del capital, que se descontará el pago inicial y las letras \\ncanceladas del contrato original, tasación retrospectiva y de acuerdo a la RM. \\nNro.088-98-PRES, otorgado por el FONAVI; se aplica el que más favorece al \\nadquiriente. El pago de saneamiento de inmueble será realizando la \\nrestructuración de la deuda, no se considerará ningún tipo de interés_ \\nSi el posesionario no es titular registral del predio, la deuda será el monto original \\nque invirtió FONAVI. \\nArtículo 9. Facilidades del pago para los posesionarios-beneficíarios \\n9.1 Las deudas a las que se refiere la presente ley pueden ser fraccionadas \\nhasta por un plazo de diez (10) años en cuotas mensuales. \\n9.2 Para casos de pagos al contado, con contrato primigenio o sin contrato \\nprimigenio se otorgará un descuento del veinticinco por ciento (25%) sobre \\nel monto total de la deuda determinada a pagar \\n9.3 La cuota inicial será la primera letra del contrato. \\n9.4 Se deberá aperturar cuentas individuales en el Banco de la Nación a \\nnombre de la Comisión Ad Hoc - FONAVI para efectuar los pagos de la \\ncuota inicial y cuotas mensuales de los adquirientes. \\n9.5 Para la resolución del contrato será dejando de pagar seis (06) letras \\nvencidas \\n9.6 La firma del nuevo contrato será con una tasa de interés legal anual no \\nmayor de 1 70, sin variaciones durante el tiempo que dure el contrato. \\n9.7 No se solicitará partida registral del predio y certificado registral \\nnegativo de propiedad, así como firma de constancias referidas al \\nmismo fin, e inspección ocular por contar con contratos primigenios. \\n9.8 Al concluir el pago al contado o al crédito la Comisión Ad Hoc - FONAVI \\nentregará una Constancia de No Adeudo y en 15 días hábiles la \\ndocumentación respectiva para inscripción en SUNARP. \\n2 \\n\\n• _1 I.Rts \\nCONGRESO\\nREPÚBLICA NIEVES ESMERALDA LIMACHI QUISPE \\nCongresista de la República \\n\"Decenio de la Igualdad de Oportunidades par'"
      ]
     },
     "execution_count": 6,
     "metadata": {},
     "output_type": "execute_result"
    }
   ],
   "source": [
    "combined_text = '\\n'.join( extracted_text )\n",
    "combined_text[ : 5000 ]"
   ]
  },
  {
   "cell_type": "markdown",
   "id": "c32e1179-e87e-4ec3-adb7-ebb1716738be",
   "metadata": {},
   "source": [
    "We can access to specific sections. Here, we'll attempt to retrieve information from Article 1."
   ]
  },
  {
   "cell_type": "code",
   "execution_count": 8,
   "id": "5c385b69-8f44-4e29-b724-65c41607feea",
   "metadata": {},
   "outputs": [
    {
     "data": {
      "text/plain": [
       "'La presente ley tiene por objeto, modificar los artículos 8, 9,10 y 11, de la Ley 31173, Ley \\nque garantiza el cumplimiento de la ley 29625, ley de devolución de dinero del Fonavi a los \\ntrabajadores que contribuyeron al mismo, priorizando a la población vulnerable, como \\nconsecuencia de la pandemia de la COVID-19; a fin de establecer los parámetros para el \\nsaneamiento de la propiedad de los posesionarios de vivienda construidas con recursos del \\nFONAVI.'"
      ]
     },
     "execution_count": 8,
     "metadata": {},
     "output_type": "execute_result"
    }
   ],
   "source": [
    "start_pattern = r'Art(í|i)culo 1\\. Objeto de la Ley'\n",
    "end_pattern   = r'Art(í|i)culo 2.'\n",
    "\n",
    "start_match   = re.search( start_pattern, combined_text, re.IGNORECASE )\n",
    "end_match     = re.search( end_pattern, combined_text[ start_match.end(): ], re.IGNORECASE )\n",
    "\n",
    "end_index     = start_match.end() + end_match.start()\n",
    "article_text  = combined_text[ start_match.end(): end_index ].strip()\n",
    "\n",
    "article_text"
   ]
  },
  {
   "cell_type": "markdown",
   "id": "c440535b-a156-418e-b9bc-d2a30c6ce083",
   "metadata": {},
   "source": [
    "Now we'll access to two sections: \"Fórmula Legal\" and \"Artículo 1\". "
   ]
  },
  {
   "cell_type": "code",
   "execution_count": 9,
   "id": "a27a9caf-fe03-4477-a70e-470bc2f054e2",
   "metadata": {},
   "outputs": [],
   "source": [
    "def extract_two_sections( combined_text, start_pattern, end_pattern ):\n",
    "\n",
    "    start_match    = re.search( start_pattern, combined_text, re.IGNORECASE )\n",
    "    end_match      = re.search( end_pattern, combined_text[ start_match.end(): ], re.IGNORECASE )\n",
    "    \n",
    "    end_index      = start_match.end() + end_match.start()\n",
    "    extracted_text = combined_text[ start_match.end(): end_index ].strip()\n",
    "\n",
    "    return extracted_text"
   ]
  },
  {
   "cell_type": "code",
   "execution_count": 12,
   "id": "a3986f73-0105-4870-9069-8c62999d9516",
   "metadata": {},
   "outputs": [],
   "source": [
    "patterns = [\n",
    "    { 'start': r'Art(í|i)culo 1\\. Objeto de la Ley', 'end': r'Art(í|i)culo 2.', 'section': 'Artículo 1' },\n",
    "    { 'start': r'F(ó|o)rmula legal', 'end': r'Art(í|i)culo 1\\.', 'section': 'Formula legal' }\n",
    "]"
   ]
  },
  {
   "cell_type": "code",
   "execution_count": 13,
   "id": "f92fee83-f07d-42e2-adb2-4186b45bfd8e",
   "metadata": {},
   "outputs": [
    {
     "data": {
      "text/html": [
       "<div>\n",
       "<style scoped>\n",
       "    .dataframe tbody tr th:only-of-type {\n",
       "        vertical-align: middle;\n",
       "    }\n",
       "\n",
       "    .dataframe tbody tr th {\n",
       "        vertical-align: top;\n",
       "    }\n",
       "\n",
       "    .dataframe thead th {\n",
       "        text-align: right;\n",
       "    }\n",
       "</style>\n",
       "<table border=\"1\" class=\"dataframe\">\n",
       "  <thead>\n",
       "    <tr style=\"text-align: right;\">\n",
       "      <th></th>\n",
       "      <th>Sección</th>\n",
       "      <th>Texto</th>\n",
       "    </tr>\n",
       "  </thead>\n",
       "  <tbody>\n",
       "    <tr>\n",
       "      <th>0</th>\n",
       "      <td>Artículo 1</td>\n",
       "      <td>La presente ley tiene por objeto, modificar lo...</td>\n",
       "    </tr>\n",
       "    <tr>\n",
       "      <th>1</th>\n",
       "      <td>Formula legal</td>\n",
       "      <td>El Congreso de la República \\nHa dado la Ley s...</td>\n",
       "    </tr>\n",
       "  </tbody>\n",
       "</table>\n",
       "</div>"
      ],
      "text/plain": [
       "         Sección                                              Texto\n",
       "0     Artículo 1  La presente ley tiene por objeto, modificar lo...\n",
       "1  Formula legal  El Congreso de la República \\nHa dado la Ley s..."
      ]
     },
     "execution_count": 13,
     "metadata": {},
     "output_type": "execute_result"
    }
   ],
   "source": [
    "results = []\n",
    "\n",
    "for pattern in patterns:\n",
    "    \n",
    "    section_text = extract_two_sections( combined_text, pattern[ 'start' ], pattern[ 'end' ] )\n",
    "    results.append( {'Sección': pattern[ 'section' ], 'Texto': section_text } )\n",
    "\n",
    "df = pd.DataFrame( results )\n",
    "df"
   ]
  },
  {
   "cell_type": "markdown",
   "id": "8a7872a5-158d-4b5b-bd9c-807f023886df",
   "metadata": {},
   "source": [
    "We can redefine this function to work with multiple pdf files"
   ]
  },
  {
   "cell_type": "code",
   "execution_count": 14,
   "id": "17524566-8735-4530-b9e8-1e84894802fd",
   "metadata": {},
   "outputs": [],
   "source": [
    "def extract_section_text( pdf_files, start_pattern, end_pattern ):\n",
    "    \n",
    "    '''\n",
    "    Extracts specific sections of text from a list of PDF files.\n",
    "\n",
    "    Parameters:\n",
    "        - pdf_files (list)    : A list of paths to the PDF files.\n",
    "        - start_pattern (str) : The regex pattern marking the beginning \n",
    "                                of the desired text section.\n",
    "        - end_pattern (str)   : The regex pattern marking the end of the \n",
    "                                desired text section.\n",
    "\n",
    "    Returns:\n",
    "        - dict: A dictionary where each key is a PDF file path and the \n",
    "                value is the extracted text or an error message if the \n",
    "                pattern is not found.\n",
    "    '''\n",
    "    results = {}\n",
    "    \n",
    "    for pdf_file in pdf_files:\n",
    "        \n",
    "        reader        = PdfReader( pdf_file )\n",
    "        full_text     = [ page.extract_text() for page in reader.pages ]\n",
    "        combined_text = '\\n'.join( full_text )\n",
    "\n",
    "        start_match = re.search( start_pattern, combined_text, re.IGNORECASE )\n",
    "        if start_match:\n",
    "            end_match = re.search( end_pattern, combined_text[start_match.end(): ], re.IGNORECASE )\n",
    "            \n",
    "            if end_match:\n",
    "                end_index           = start_match.end() + end_match.start()\n",
    "                results[ pdf_file ] = combined_text[start_match.end() : end_index ].strip()\n",
    "            \n",
    "            else:\n",
    "                results[ pdf_file ] = 'End pattern not found.'\n",
    "        \n",
    "        else:\n",
    "            results[ pdf_file ] = 'Start pattern not found.'\n",
    "\n",
    "    return results"
   ]
  },
  {
   "cell_type": "markdown",
   "id": "29547e43-ee66-40ac-abd8-823e238945db",
   "metadata": {},
   "source": [
    "We define start and end patterns"
   ]
  },
  {
   "cell_type": "code",
   "execution_count": 23,
   "id": "dac29f41-37cc-4b6e-8705-5ffd474c37b0",
   "metadata": {},
   "outputs": [],
   "source": [
    "patterns = [\n",
    "    { 'start': r'Art(í|i)culo 1\\.', 'end': r'Art(í|i)culo 2', 'section': 'Artículo 1' },\n",
    "    { 'start': r'(F(ó|o)rmula legal|dado la siguiente ley)', 'end': r'Art(í|i)culo 1\\.', 'section': 'Fórmula legal' }\n",
    "]"
   ]
  },
  {
   "cell_type": "markdown",
   "id": "4bc1de70-701b-4a59-9d33-9e70626f45c8",
   "metadata": {},
   "source": [
    "We finally apply the function:"
   ]
  },
  {
   "cell_type": "code",
   "execution_count": 24,
   "id": "070a39ae-5f0c-442f-8366-38a948bf9a2e",
   "metadata": {},
   "outputs": [],
   "source": [
    "pdf_files = glob.glob( '../data/Part_I/Congressional_Bills/pdf_docs/*.pdf' )"
   ]
  },
  {
   "cell_type": "code",
   "execution_count": 36,
   "id": "eb214997-7ce6-4631-875f-88d778e91a34",
   "metadata": {},
   "outputs": [
    {
     "data": {
      "text/html": [
       "<div>\n",
       "<style scoped>\n",
       "    .dataframe tbody tr th:only-of-type {\n",
       "        vertical-align: middle;\n",
       "    }\n",
       "\n",
       "    .dataframe tbody tr th {\n",
       "        vertical-align: top;\n",
       "    }\n",
       "\n",
       "    .dataframe thead th {\n",
       "        text-align: right;\n",
       "    }\n",
       "</style>\n",
       "<table border=\"1\" class=\"dataframe\">\n",
       "  <thead>\n",
       "    <tr style=\"text-align: right;\">\n",
       "      <th></th>\n",
       "      <th>Artículo 1</th>\n",
       "      <th>Fórmula legal</th>\n",
       "      <th>Proyecto de ley</th>\n",
       "    </tr>\n",
       "  </thead>\n",
       "  <tbody>\n",
       "    <tr>\n",
       "      <th>0</th>\n",
       "      <td>Objeto y finalidad de la ley \\nLa presente ley...</td>\n",
       "      <td>: \\nLEY QUE MODIFICA EL DECRETO LEGISLATIVO N....</td>\n",
       "      <td>PL0668720231215</td>\n",
       "    </tr>\n",
       "    <tr>\n",
       "      <th>1</th>\n",
       "      <td>Objeto de la Ley \\nLa presente ley tiene por o...</td>\n",
       "      <td>El Congreso de la República \\nHa dado la Ley s...</td>\n",
       "      <td>PL0668820231218</td>\n",
       "    </tr>\n",
       "    <tr>\n",
       "      <th>2</th>\n",
       "      <td>- Objeto \\nLa presente ley tiene por objeto pr...</td>\n",
       "      <td>Start pattern not found.</td>\n",
       "      <td>PL0668920231218</td>\n",
       "    </tr>\n",
       "    <tr>\n",
       "      <th>3</th>\n",
       "      <td>Creación de la Universidad Nacional Autónoma d...</td>\n",
       "      <td>El Congreso de la República \\nHa dado la sigui...</td>\n",
       "      <td>PL0669020231218</td>\n",
       "    </tr>\n",
       "    <tr>\n",
       "      <th>4</th>\n",
       "      <td>— Finalidad y objeto de la Ley \\nLa presente l...</td>\n",
       "      <td>LEY DE EXPULSIÓN DE EXTRANJEROS DETENIDOS EN F...</td>\n",
       "      <td>PL0669120231218</td>\n",
       "    </tr>\n",
       "  </tbody>\n",
       "</table>\n",
       "</div>"
      ],
      "text/plain": [
       "                                          Artículo 1  \\\n",
       "0  Objeto y finalidad de la ley \\nLa presente ley...   \n",
       "1  Objeto de la Ley \\nLa presente ley tiene por o...   \n",
       "2  - Objeto \\nLa presente ley tiene por objeto pr...   \n",
       "3  Creación de la Universidad Nacional Autónoma d...   \n",
       "4  — Finalidad y objeto de la Ley \\nLa presente l...   \n",
       "\n",
       "                                       Fórmula legal  Proyecto de ley  \n",
       "0  : \\nLEY QUE MODIFICA EL DECRETO LEGISLATIVO N....  PL0668720231215  \n",
       "1  El Congreso de la República \\nHa dado la Ley s...  PL0668820231218  \n",
       "2                           Start pattern not found.  PL0668920231218  \n",
       "3  El Congreso de la República \\nHa dado la sigui...  PL0669020231218  \n",
       "4  LEY DE EXPULSIÓN DE EXTRANJEROS DETENIDOS EN F...  PL0669120231218  "
      ]
     },
     "execution_count": 36,
     "metadata": {},
     "output_type": "execute_result"
    }
   ],
   "source": [
    "df = pd.DataFrame()\n",
    "\n",
    "for pattern in patterns:\n",
    "    extracted_texts = extract_section_text( pdf_files, pattern[ 'start' ], pattern[ 'end' ] )\n",
    "    temp_df         = pd.DataFrame.from_dict( extracted_texts, orient = 'index', columns = [ pattern[ 'section' ] ] )\n",
    "    df = pd.concat( [ df, temp_df ], axis = 1 )\n",
    "\n",
    "df = df.reset_index()\n",
    "df['Proyecto de ley'] = df['index'].str.extract( r'\\\\(PL\\d+).pdf$' )\n",
    "df = df.drop( [ 'index' ], axis = 1 )\n",
    "df.to_excel( '../data/Part_I/Congressional_Bills/pdf_docs/bills.xlsx', index = False )\n",
    "df"
   ]
  },
  {
   "cell_type": "markdown",
   "id": "cf65f9b6-e6ce-4793-a260-31da5577aff6",
   "metadata": {},
   "source": [
    "# 3. Tables retrieval with Camelot"
   ]
  },
  {
   "cell_type": "markdown",
   "id": "78aaf2ca-cb4a-454a-8449-3468ae6a66c4",
   "metadata": {},
   "source": [
    "Camelot is a Python library for extracting tables from PDF files. It converts tables in PDFs into structured formats like pandas DataFrames, streamlining data analysis and processing tasks."
   ]
  },
  {
   "cell_type": "markdown",
   "id": "a8a336e4-c54a-48a9-9818-279761664432",
   "metadata": {},
   "source": [
    "### How Camelot Works\n",
    "\n",
    "Camelot reads PDF files and extracts tables from the pages you specify. The extraction process can be customized using different parameters and methods, allowing you to tailor the extraction to the specific layout of your PDF.\n",
    "\n",
    "### Main Function\n",
    "\n",
    "  - `read_pdf(filepath, pages='all', flavor='lattice', **kwargs)`\n",
    "\n",
    "### Main Parameters\n",
    "\n",
    "  - `filepath`: Path to the PDF file.\n",
    "  - `pages`: Pages to extract tables from ('all', '1', '1,2,3', '1-3', etc.).\n",
    "  - `flavor`: Extraction method ('lattice' or 'stream').\n",
    "\n",
    "### Flavors\n",
    "\n",
    "1. **Lattice**: Used when tables are enclosed within distinct borders. It's ideal for extracting data from grid-like tables.\n",
    "   - Relies on visible lines of the table.\n",
    "   - More accurate when the tables have clear demarcation lines.\n",
    "\n",
    "2. **Stream**: Best for tables without clear borders or where lines between cells aren't visible.\n",
    "   - Relies on the position of the text to determine cell boundaries.\n",
    "   - Useful when dealing with whitespace-separated columns.\n",
    "\n",
    "### Other Parameters\n",
    "\n",
    "- `strip_text`: Remove unwanted characters.\n",
    "- `line_scale`: Increase if tables have thin lines (Lattice only).\n",
    "- `shift_text`: Adjust when text is not aligned (Stream only)."
   ]
  },
  {
   "cell_type": "markdown",
   "id": "972901d2-0696-44f9-aafb-b36cb34f7543",
   "metadata": {},
   "source": [
    "## 3.1. Lattice falvor"
   ]
  },
  {
   "cell_type": "markdown",
   "id": "63bbfbc3-3805-4474-82ed-e85b3a018734",
   "metadata": {},
   "source": [
    "First, let's extract tables using `lattice` flavor."
   ]
  },
  {
   "cell_type": "code",
   "execution_count": 37,
   "id": "36fa7146-67fc-4257-a299-f70559a331a7",
   "metadata": {},
   "outputs": [],
   "source": [
    "import camelot"
   ]
  },
  {
   "cell_type": "code",
   "execution_count": 39,
   "id": "0cf76284-bb59-4647-bef5-07741eb856c3",
   "metadata": {},
   "outputs": [],
   "source": [
    "reader = camelot.read_pdf( '../data/Part_II/camelot/Lista-de-egresados-2021-1.pdf', pages = '1', flavor = 'lattice' )"
   ]
  },
  {
   "cell_type": "code",
   "execution_count": 40,
   "id": "5804bf64-f460-4760-83e9-599b5af3f2c5",
   "metadata": {},
   "outputs": [
    {
     "data": {
      "text/html": [
       "<div>\n",
       "<style scoped>\n",
       "    .dataframe tbody tr th:only-of-type {\n",
       "        vertical-align: middle;\n",
       "    }\n",
       "\n",
       "    .dataframe tbody tr th {\n",
       "        vertical-align: top;\n",
       "    }\n",
       "\n",
       "    .dataframe thead th {\n",
       "        text-align: right;\n",
       "    }\n",
       "</style>\n",
       "<table border=\"1\" class=\"dataframe\">\n",
       "  <thead>\n",
       "    <tr style=\"text-align: right;\">\n",
       "      <th></th>\n",
       "      <th>0</th>\n",
       "      <th>1</th>\n",
       "      <th>2</th>\n",
       "    </tr>\n",
       "  </thead>\n",
       "  <tbody>\n",
       "    <tr>\n",
       "      <th>0</th>\n",
       "      <td>Código\\nNombre\\nCarrera</td>\n",
       "      <td></td>\n",
       "      <td></td>\n",
       "    </tr>\n",
       "    <tr>\n",
       "      <th>1</th>\n",
       "      <td>19901171</td>\n",
       "      <td>OJEDA TUMPAY, CAROLINA MARGOT</td>\n",
       "      <td>PSICOLOGIA-PREGRADO ADULTO</td>\n",
       "    </tr>\n",
       "    <tr>\n",
       "      <th>2</th>\n",
       "      <td>20120377</td>\n",
       "      <td>FALCON CUYUTUPA, ANDREA ELIANA</td>\n",
       "      <td>DERECHO-PREGRADO EN EEGG O FORMACIÓN GENERAL</td>\n",
       "    </tr>\n",
       "    <tr>\n",
       "      <th>3</th>\n",
       "      <td>20130966</td>\n",
       "      <td>BEDRIÑANA MENDOZA, JOSE ANDRES</td>\n",
       "      <td>GESTIÓN-PREGRADO EN EEGG O FORMACIÓN GENERAL</td>\n",
       "    </tr>\n",
       "    <tr>\n",
       "      <th>4</th>\n",
       "      <td>20131294</td>\n",
       "      <td>UGAZ QUIÑONES, AARON ALEXIS</td>\n",
       "      <td>DERECHO-PREGRADO EN EEGG O FORMACIÓN GENERAL</td>\n",
       "    </tr>\n",
       "  </tbody>\n",
       "</table>\n",
       "</div>"
      ],
      "text/plain": [
       "                         0                               1  \\\n",
       "0  Código\\nNombre\\nCarrera                                   \n",
       "1                 19901171   OJEDA TUMPAY, CAROLINA MARGOT   \n",
       "2                 20120377  FALCON CUYUTUPA, ANDREA ELIANA   \n",
       "3                 20130966  BEDRIÑANA MENDOZA, JOSE ANDRES   \n",
       "4                 20131294     UGAZ QUIÑONES, AARON ALEXIS   \n",
       "\n",
       "                                              2  \n",
       "0                                                \n",
       "1                    PSICOLOGIA-PREGRADO ADULTO  \n",
       "2  DERECHO-PREGRADO EN EEGG O FORMACIÓN GENERAL  \n",
       "3  GESTIÓN-PREGRADO EN EEGG O FORMACIÓN GENERAL  \n",
       "4  DERECHO-PREGRADO EN EEGG O FORMACIÓN GENERAL  "
      ]
     },
     "execution_count": 40,
     "metadata": {},
     "output_type": "execute_result"
    }
   ],
   "source": [
    "table = reader[ 0 ].df\n",
    "table.head( 5 )"
   ]
  },
  {
   "cell_type": "markdown",
   "id": "364a2887-ba2b-478f-a2b0-d2449e086d58",
   "metadata": {},
   "source": [
    "Let's format this table"
   ]
  },
  {
   "cell_type": "code",
   "execution_count": 41,
   "id": "e5f45ee8-a98e-4517-9aee-534e933b7373",
   "metadata": {},
   "outputs": [
    {
     "data": {
      "text/html": [
       "<div>\n",
       "<style scoped>\n",
       "    .dataframe tbody tr th:only-of-type {\n",
       "        vertical-align: middle;\n",
       "    }\n",
       "\n",
       "    .dataframe tbody tr th {\n",
       "        vertical-align: top;\n",
       "    }\n",
       "\n",
       "    .dataframe thead th {\n",
       "        text-align: right;\n",
       "    }\n",
       "</style>\n",
       "<table border=\"1\" class=\"dataframe\">\n",
       "  <thead>\n",
       "    <tr style=\"text-align: right;\">\n",
       "      <th></th>\n",
       "      <th>Código</th>\n",
       "      <th>Nombre</th>\n",
       "      <th>Carrera</th>\n",
       "    </tr>\n",
       "  </thead>\n",
       "  <tbody>\n",
       "    <tr>\n",
       "      <th>0</th>\n",
       "      <td>19901171</td>\n",
       "      <td>OJEDA TUMPAY, CAROLINA MARGOT</td>\n",
       "      <td>PSICOLOGIA-PREGRADO ADULTO</td>\n",
       "    </tr>\n",
       "    <tr>\n",
       "      <th>1</th>\n",
       "      <td>20120377</td>\n",
       "      <td>FALCON CUYUTUPA, ANDREA ELIANA</td>\n",
       "      <td>DERECHO-PREGRADO EN EEGG O FORMACIÓN GENERAL</td>\n",
       "    </tr>\n",
       "    <tr>\n",
       "      <th>2</th>\n",
       "      <td>20130966</td>\n",
       "      <td>BEDRIÑANA MENDOZA, JOSE ANDRES</td>\n",
       "      <td>GESTIÓN-PREGRADO EN EEGG O FORMACIÓN GENERAL</td>\n",
       "    </tr>\n",
       "    <tr>\n",
       "      <th>3</th>\n",
       "      <td>20131294</td>\n",
       "      <td>UGAZ QUIÑONES, AARON ALEXIS</td>\n",
       "      <td>DERECHO-PREGRADO EN EEGG O FORMACIÓN GENERAL</td>\n",
       "    </tr>\n",
       "    <tr>\n",
       "      <th>4</th>\n",
       "      <td>20132069</td>\n",
       "      <td>FARJE CARDENAS, DAVID ALEJANDRO</td>\n",
       "      <td>PSICOLOGIA-PREGRADO EN EEGG O FORMACIÓN GENERAL</td>\n",
       "    </tr>\n",
       "  </tbody>\n",
       "</table>\n",
       "</div>"
      ],
      "text/plain": [
       "     Código                           Nombre  \\\n",
       "0  19901171    OJEDA TUMPAY, CAROLINA MARGOT   \n",
       "1  20120377   FALCON CUYUTUPA, ANDREA ELIANA   \n",
       "2  20130966   BEDRIÑANA MENDOZA, JOSE ANDRES   \n",
       "3  20131294      UGAZ QUIÑONES, AARON ALEXIS   \n",
       "4  20132069  FARJE CARDENAS, DAVID ALEJANDRO   \n",
       "\n",
       "                                           Carrera  \n",
       "0                       PSICOLOGIA-PREGRADO ADULTO  \n",
       "1     DERECHO-PREGRADO EN EEGG O FORMACIÓN GENERAL  \n",
       "2     GESTIÓN-PREGRADO EN EEGG O FORMACIÓN GENERAL  \n",
       "3     DERECHO-PREGRADO EN EEGG O FORMACIÓN GENERAL  \n",
       "4  PSICOLOGIA-PREGRADO EN EEGG O FORMACIÓN GENERAL  "
      ]
     },
     "execution_count": 41,
     "metadata": {},
     "output_type": "execute_result"
    }
   ],
   "source": [
    "new_headers   = table.iloc[ 0, 0 ].split( '\\n' )\n",
    "table.columns = new_headers\n",
    "table         = table.drop( 0 )\n",
    "table         = table.reset_index( drop = True )\n",
    "table.head( 5 )"
   ]
  },
  {
   "cell_type": "markdown",
   "id": "3ba49aa1-2dba-442f-820e-9e4280c5c1fa",
   "metadata": {},
   "source": [
    "We can read tables for all the PDF document"
   ]
  },
  {
   "cell_type": "code",
   "execution_count": 45,
   "id": "33bd44f1-5f85-4130-8771-ea6999501383",
   "metadata": {},
   "outputs": [],
   "source": [
    "def lattice_function( file, n_pages ):\n",
    "\n",
    "    reader = camelot.read_pdf( file, pages = n_pages , flavor = 'lattice' )\n",
    "    # table  = reader[ 0 ].df\n",
    "    df_list = []\n",
    "    \n",
    "    for i in range( len( reader ) ):\n",
    "        df = reader[ i ].df\n",
    "        df_list.append( df )\n",
    "    \n",
    "    df_concat         = pd.concat( df_list, ignore_index = True )\n",
    "    new_headers       = df_concat.iloc[ 0, 0 ].split( '\\n' )\n",
    "    df_concat.columns = new_headers\n",
    "    df_concat         = df_concat.drop( 0 )\n",
    "    df_concat         = df_concat.reset_index( drop = True )\n",
    "    df_concat\n",
    "\n",
    "    return df_concat"
   ]
  },
  {
   "cell_type": "code",
   "execution_count": 50,
   "id": "c9c7a4d1-0915-4266-b08d-a37b96b4203b",
   "metadata": {},
   "outputs": [],
   "source": [
    "file    = '../data/Part_II/camelot/Lista-de-egresados-2021-1.pdf'\n",
    "n_pages = 'all'\n",
    "\n",
    "df = lattice_function( file, n_pages )\n",
    "df.to_excel( '../data/Part_II/camelot/egresados_2021_1.xlsx', index = False )"
   ]
  },
  {
   "cell_type": "code",
   "execution_count": 51,
   "id": "0231fd2d-dd6b-42bd-83b2-c3baec77fc0f",
   "metadata": {},
   "outputs": [
    {
     "data": {
      "text/html": [
       "<div>\n",
       "<style scoped>\n",
       "    .dataframe tbody tr th:only-of-type {\n",
       "        vertical-align: middle;\n",
       "    }\n",
       "\n",
       "    .dataframe tbody tr th {\n",
       "        vertical-align: top;\n",
       "    }\n",
       "\n",
       "    .dataframe thead th {\n",
       "        text-align: right;\n",
       "    }\n",
       "</style>\n",
       "<table border=\"1\" class=\"dataframe\">\n",
       "  <thead>\n",
       "    <tr style=\"text-align: right;\">\n",
       "      <th></th>\n",
       "      <th>Código</th>\n",
       "      <th>Nombre</th>\n",
       "      <th>Carrera</th>\n",
       "    </tr>\n",
       "  </thead>\n",
       "  <tbody>\n",
       "    <tr>\n",
       "      <th>0</th>\n",
       "      <td>19901171</td>\n",
       "      <td>OJEDA TUMPAY, CAROLINA MARGOT</td>\n",
       "      <td>PSICOLOGIA-PREGRADO ADULTO</td>\n",
       "    </tr>\n",
       "    <tr>\n",
       "      <th>1</th>\n",
       "      <td>20120377</td>\n",
       "      <td>FALCON CUYUTUPA, ANDREA ELIANA</td>\n",
       "      <td>DERECHO-PREGRADO EN EEGG O FORMACIÓN GENERAL</td>\n",
       "    </tr>\n",
       "    <tr>\n",
       "      <th>2</th>\n",
       "      <td>20130966</td>\n",
       "      <td>BEDRIÑANA MENDOZA, JOSE ANDRES</td>\n",
       "      <td>GESTIÓN-PREGRADO EN EEGG O FORMACIÓN GENERAL</td>\n",
       "    </tr>\n",
       "    <tr>\n",
       "      <th>3</th>\n",
       "      <td>20131294</td>\n",
       "      <td>UGAZ QUIÑONES, AARON ALEXIS</td>\n",
       "      <td>DERECHO-PREGRADO EN EEGG O FORMACIÓN GENERAL</td>\n",
       "    </tr>\n",
       "    <tr>\n",
       "      <th>4</th>\n",
       "      <td>20132069</td>\n",
       "      <td>FARJE CARDENAS, DAVID ALEJANDRO</td>\n",
       "      <td>PSICOLOGIA-PREGRADO EN EEGG O FORMACIÓN GENERAL</td>\n",
       "    </tr>\n",
       "    <tr>\n",
       "      <th>...</th>\n",
       "      <td>...</td>\n",
       "      <td>...</td>\n",
       "      <td>...</td>\n",
       "    </tr>\n",
       "    <tr>\n",
       "      <th>789</th>\n",
       "      <td>20200447</td>\n",
       "      <td>CHAVEZ MALAGA, DANIELA NAHIL</td>\n",
       "      <td>DERECHO-PREGRADO EN EEGG O FORMACIÓN GENERAL</td>\n",
       "    </tr>\n",
       "    <tr>\n",
       "      <th>790</th>\n",
       "      <td>20200675</td>\n",
       "      <td>IBERICO LOPEZ, MARIA FERNANDA</td>\n",
       "      <td>DERECHO-PREGRADO EN EEGG O FORMACIÓN GENERAL</td>\n",
       "    </tr>\n",
       "    <tr>\n",
       "      <th>791</th>\n",
       "      <td>20200697</td>\n",
       "      <td>DELGADO SECLEN, MARIA JOSE ALEXA</td>\n",
       "      <td>DERECHO-PREGRADO EN EEGG O FORMACIÓN GENERAL</td>\n",
       "    </tr>\n",
       "    <tr>\n",
       "      <th>792</th>\n",
       "      <td>20201008</td>\n",
       "      <td>CHAHUD MARTINEZ, SAID GUILLERMO</td>\n",
       "      <td>RR.INT.-PREGRADO EN EEGG O FORMACIÓN GENERAL</td>\n",
       "    </tr>\n",
       "    <tr>\n",
       "      <th>793</th>\n",
       "      <td>20203286</td>\n",
       "      <td>ROMERO ALVAREZ, JHOSELIN BRILLITH</td>\n",
       "      <td>DERECHO-PREGRADO EN EEGG O FORMACIÓN GENERAL</td>\n",
       "    </tr>\n",
       "  </tbody>\n",
       "</table>\n",
       "<p>794 rows × 3 columns</p>\n",
       "</div>"
      ],
      "text/plain": [
       "       Código                             Nombre  \\\n",
       "0    19901171      OJEDA TUMPAY, CAROLINA MARGOT   \n",
       "1    20120377     FALCON CUYUTUPA, ANDREA ELIANA   \n",
       "2    20130966     BEDRIÑANA MENDOZA, JOSE ANDRES   \n",
       "3    20131294        UGAZ QUIÑONES, AARON ALEXIS   \n",
       "4    20132069    FARJE CARDENAS, DAVID ALEJANDRO   \n",
       "..        ...                                ...   \n",
       "789  20200447       CHAVEZ MALAGA, DANIELA NAHIL   \n",
       "790  20200675      IBERICO LOPEZ, MARIA FERNANDA   \n",
       "791  20200697   DELGADO SECLEN, MARIA JOSE ALEXA   \n",
       "792  20201008    CHAHUD MARTINEZ, SAID GUILLERMO   \n",
       "793  20203286  ROMERO ALVAREZ, JHOSELIN BRILLITH   \n",
       "\n",
       "                                             Carrera  \n",
       "0                         PSICOLOGIA-PREGRADO ADULTO  \n",
       "1       DERECHO-PREGRADO EN EEGG O FORMACIÓN GENERAL  \n",
       "2       GESTIÓN-PREGRADO EN EEGG O FORMACIÓN GENERAL  \n",
       "3       DERECHO-PREGRADO EN EEGG O FORMACIÓN GENERAL  \n",
       "4    PSICOLOGIA-PREGRADO EN EEGG O FORMACIÓN GENERAL  \n",
       "..                                               ...  \n",
       "789     DERECHO-PREGRADO EN EEGG O FORMACIÓN GENERAL  \n",
       "790     DERECHO-PREGRADO EN EEGG O FORMACIÓN GENERAL  \n",
       "791     DERECHO-PREGRADO EN EEGG O FORMACIÓN GENERAL  \n",
       "792     RR.INT.-PREGRADO EN EEGG O FORMACIÓN GENERAL  \n",
       "793     DERECHO-PREGRADO EN EEGG O FORMACIÓN GENERAL  \n",
       "\n",
       "[794 rows x 3 columns]"
      ]
     },
     "execution_count": 51,
     "metadata": {},
     "output_type": "execute_result"
    }
   ],
   "source": [
    "df"
   ]
  },
  {
   "cell_type": "markdown",
   "id": "1ec7bdc0-1cd0-4f13-bbd3-b4da20924ef9",
   "metadata": {},
   "source": [
    "## 3.2. Stream flavor"
   ]
  },
  {
   "cell_type": "markdown",
   "id": "0cbef265-6ad1-4afc-bba6-4608b7dbf293",
   "metadata": {},
   "source": [
    "First, let's extract tables using `stream` flavor."
   ]
  },
  {
   "cell_type": "code",
   "execution_count": 52,
   "id": "2ad79f91-48df-48f9-909d-a5b7dde19115",
   "metadata": {},
   "outputs": [
    {
     "data": {
      "text/plain": [
       "1"
      ]
     },
     "execution_count": 52,
     "metadata": {},
     "output_type": "execute_result"
    }
   ],
   "source": [
    "reader = camelot.read_pdf( '../data/Part_II/camelot/pspl0320.pdf', pages = '8', flavor = 'stream' )\n",
    "len( reader )"
   ]
  },
  {
   "cell_type": "markdown",
   "id": "74215cdd-b4e1-4400-923c-603bfbdc9323",
   "metadata": {},
   "source": [
    "We can plot the specific text that `Stream` method identifies."
   ]
  },
  {
   "cell_type": "code",
   "execution_count": 53,
   "id": "adefa99d-e4d4-4b50-bb67-a92ab9c70b63",
   "metadata": {
    "collapsed": true,
    "jupyter": {
     "outputs_hidden": true
    },
    "scrolled": true
   },
   "outputs": [
    {
     "name": "stderr",
     "output_type": "stream",
     "text": [
      "C:\\Users\\dell\\AppData\\Local\\Temp\\ipykernel_26832\\3203909404.py:1: UserWarning: FigureCanvasAgg is non-interactive, and thus cannot be shown\n",
      "  camelot.plot( reader[ 0 ], kind = 'text' ).show()\n"
     ]
    },
    {
     "data": {
      "image/png": "[encoded data removed]",
      "text/plain": [
       "<Figure size 640x480 with 1 Axes>"
      ]
     },
     "metadata": {},
     "output_type": "display_data"
    }
   ],
   "source": [
    "camelot.plot( reader[ 0 ], kind = 'text' ).show()"
   ]
  },
  {
   "cell_type": "markdown",
   "id": "94e25df6-a155-48cf-b451-8f5d1b6f28e1",
   "metadata": {},
   "source": [
    "Now we take a look at the extracted table. We notice that we need to fix its structure."
   ]
  },
  {
   "cell_type": "code",
   "execution_count": 54,
   "id": "35f4fc3b-0082-4ea5-ab81-033481730569",
   "metadata": {},
   "outputs": [
    {
     "data": {
      "text/html": [
       "<div>\n",
       "<style scoped>\n",
       "    .dataframe tbody tr th:only-of-type {\n",
       "        vertical-align: middle;\n",
       "    }\n",
       "\n",
       "    .dataframe tbody tr th {\n",
       "        vertical-align: top;\n",
       "    }\n",
       "\n",
       "    .dataframe thead th {\n",
       "        text-align: right;\n",
       "    }\n",
       "</style>\n",
       "<table border=\"1\" class=\"dataframe\">\n",
       "  <thead>\n",
       "    <tr style=\"text-align: right;\">\n",
       "      <th></th>\n",
       "      <th>0</th>\n",
       "      <th>1</th>\n",
       "      <th>2</th>\n",
       "      <th>3</th>\n",
       "      <th>4</th>\n",
       "      <th>5</th>\n",
       "      <th>6</th>\n",
       "      <th>7</th>\n",
       "      <th>8</th>\n",
       "    </tr>\n",
       "  </thead>\n",
       "  <tbody>\n",
       "    <tr>\n",
       "      <th>0</th>\n",
       "      <td>State</td>\n",
       "      <td></td>\n",
       "      <td></td>\n",
       "      <td></td>\n",
       "      <td></td>\n",
       "      <td></td>\n",
       "      <td></td>\n",
       "      <td>Percent of</td>\n",
       "      <td></td>\n",
       "    </tr>\n",
       "    <tr>\n",
       "      <th>1</th>\n",
       "      <td></td>\n",
       "      <td>2018</td>\n",
       "      <td></td>\n",
       "      <td>2019</td>\n",
       "      <td></td>\n",
       "      <td>2020 1</td>\n",
       "      <td></td>\n",
       "      <td></td>\n",
       "      <td></td>\n",
       "    </tr>\n",
       "    <tr>\n",
       "      <th>2</th>\n",
       "      <td></td>\n",
       "      <td></td>\n",
       "      <td></td>\n",
       "      <td></td>\n",
       "      <td></td>\n",
       "      <td></td>\n",
       "      <td></td>\n",
       "      <td>previous year</td>\n",
       "      <td></td>\n",
       "    </tr>\n",
       "    <tr>\n",
       "      <th>3</th>\n",
       "      <td></td>\n",
       "      <td>(1,000 acres)</td>\n",
       "      <td></td>\n",
       "      <td>(1,000 acres)</td>\n",
       "      <td></td>\n",
       "      <td>(1,000 acres)</td>\n",
       "      <td></td>\n",
       "      <td>(percent)</td>\n",
       "      <td></td>\n",
       "    </tr>\n",
       "    <tr>\n",
       "      <th>4</th>\n",
       "      <td>Alabama 2  ............................</td>\n",
       "      <td></td>\n",
       "      <td>40</td>\n",
       "      <td></td>\n",
       "      <td>(NA)</td>\n",
       "      <td></td>\n",
       "      <td>(NA)</td>\n",
       "      <td></td>\n",
       "      <td>(X)</td>\n",
       "    </tr>\n",
       "  </tbody>\n",
       "</table>\n",
       "</div>"
      ],
      "text/plain": [
       "                                         0              1   2              3  \\\n",
       "0                                    State                                     \n",
       "1                                                    2018               2019   \n",
       "2                                                                              \n",
       "3                                           (1,000 acres)      (1,000 acres)   \n",
       "4  Alabama 2  ............................                 40                  \n",
       "\n",
       "      4              5     6              7    8  \n",
       "0                                Percent of       \n",
       "1               2020 1                            \n",
       "2                             previous year       \n",
       "3        (1,000 acres)            (percent)       \n",
       "4  (NA)                 (NA)                 (X)  "
      ]
     },
     "execution_count": 54,
     "metadata": {},
     "output_type": "execute_result"
    }
   ],
   "source": [
    "table = reader[ 0 ].df\n",
    "table.head( 5 )"
   ]
  },
  {
   "cell_type": "code",
   "execution_count": 55,
   "id": "2f178bad-bf44-4764-a1b7-fe2efe448db4",
   "metadata": {},
   "outputs": [
    {
     "data": {
      "text/html": [
       "<div>\n",
       "<style scoped>\n",
       "    .dataframe tbody tr th:only-of-type {\n",
       "        vertical-align: middle;\n",
       "    }\n",
       "\n",
       "    .dataframe tbody tr th {\n",
       "        vertical-align: top;\n",
       "    }\n",
       "\n",
       "    .dataframe thead th {\n",
       "        text-align: right;\n",
       "    }\n",
       "</style>\n",
       "<table border=\"1\" class=\"dataframe\">\n",
       "  <thead>\n",
       "    <tr style=\"text-align: right;\">\n",
       "      <th></th>\n",
       "      <th>State</th>\n",
       "      <th>2018</th>\n",
       "      <th>2019</th>\n",
       "      <th>2020</th>\n",
       "    </tr>\n",
       "  </thead>\n",
       "  <tbody>\n",
       "    <tr>\n",
       "      <th>3</th>\n",
       "      <td></td>\n",
       "      <td>(1,000 acres)</td>\n",
       "      <td>(1,000 acres)</td>\n",
       "      <td>(1,000 acres)</td>\n",
       "    </tr>\n",
       "    <tr>\n",
       "      <th>4</th>\n",
       "      <td>Alabama</td>\n",
       "      <td>40</td>\n",
       "      <td>(NA)</td>\n",
       "      <td>(NA)</td>\n",
       "    </tr>\n",
       "    <tr>\n",
       "      <th>5</th>\n",
       "      <td>Arkansas</td>\n",
       "      <td>10</td>\n",
       "      <td>5</td>\n",
       "      <td>8</td>\n",
       "    </tr>\n",
       "    <tr>\n",
       "      <th>6</th>\n",
       "      <td>California</td>\n",
       "      <td>110</td>\n",
       "      <td>75</td>\n",
       "      <td>75</td>\n",
       "    </tr>\n",
       "    <tr>\n",
       "      <th>7</th>\n",
       "      <td>Colorado</td>\n",
       "      <td>95</td>\n",
       "      <td>(NA)</td>\n",
       "      <td>(NA)</td>\n",
       "    </tr>\n",
       "  </tbody>\n",
       "</table>\n",
       "</div>"
      ],
      "text/plain": [
       "        State           2018           2019           2020\n",
       "3              (1,000 acres)  (1,000 acres)  (1,000 acres)\n",
       "4     Alabama             40           (NA)           (NA)\n",
       "5    Arkansas             10              5              8\n",
       "6  California            110             75             75\n",
       "7    Colorado             95           (NA)           (NA)"
      ]
     },
     "execution_count": 55,
     "metadata": {},
     "output_type": "execute_result"
    }
   ],
   "source": [
    "for year in range( 2018, 2021 ):\n",
    "    \n",
    "    col_indices          = [ ( year - 2018 ) * 2 + 1, ( year - 2018 ) * 2 + 2 ]\n",
    "    table[ str( year ) ] = table[ col_indices[ 0 ] ].astype( str ) + table[ col_indices[ 1 ] ].astype( str )\n",
    "    \n",
    "cols_to_drop = list( range( 1, 9 ) )\n",
    "table        = table.drop( columns = cols_to_drop )\n",
    "\n",
    "table            = table.rename( columns = { 0: 'State', 7: 'Percent of previous year' } )\n",
    "table            = table.drop( [ 0, 1, 2 ], axis = 0 )\n",
    "table[ 'State' ] = table[ 'State' ].str.replace( r'\\.{2,}', '', regex = True )\\\n",
    "                                   .str.replace(r'\\d+', '', regex = True)\\\n",
    "                                   .str.strip()\n",
    "table.head( 5 )"
   ]
  },
  {
   "cell_type": "markdown",
   "id": "de34d386-069a-447b-bce4-e69efca7b830",
   "metadata": {},
   "source": [
    "We can use this base code to define a function that can be applied to other tables in this PDF file."
   ]
  },
  {
   "cell_type": "code",
   "execution_count": 56,
   "id": "f9179f64-1e5d-44f3-a567-ccaaad354310",
   "metadata": {},
   "outputs": [],
   "source": [
    "def stream_function( file, n_page ):\n",
    "\n",
    "    '''\n",
    "    Objective: \n",
    "    \n",
    "    - Extracts and processes table data from a specified page of a PDF file using the 'stream' \n",
    "      method from Camelot library.\n",
    "\n",
    "    Inputs:\n",
    "    \n",
    "    - file: A string representing the file path to the PDF document.\n",
    "    - n_page: A string or integer representing the page number to extract the table from.\n",
    "\n",
    "    Output:\n",
    "    \n",
    "    - A pandas DataFrame containing the processed table data. The DataFrame has specific columns\n",
    "      for each year (2018, 2019, 2020) and 'Percent of previous year' (if applicable), \n",
    "      along with a cleaned 'State' column.\n",
    "\n",
    "    Notes: \n",
    "    \n",
    "    - This function assumes a specific table structure and may need adjustments for \n",
    "      different table formats.\n",
    "    - This function works for tables that share format as tables present in pages 6, 8, 9, and\n",
    "      so on.\n",
    "    '''\n",
    "\n",
    "    reader = camelot.read_pdf( file, pages = n_page , flavor = 'stream' )        \n",
    "    table  = reader[ 0 ].df\n",
    "\n",
    "    for year in range( 2018, 2021 ):\n",
    "        \n",
    "        col_indices          = [ ( year - 2018 ) * 2 + 1, ( year - 2018 ) * 2 + 2 ]\n",
    "        table[ str( year ) ] = table[ col_indices[ 0 ] ].astype( str ) + table[ col_indices[ 1 ] ].astype( str )\n",
    "\n",
    "    if len( table.columns ) == 12:\n",
    "        \n",
    "        table[ 'Percent of previous year' ] = table[ 7 ].astype( str ) + table[ 8 ].astype( str )\n",
    "        final_col = 9\n",
    "        \n",
    "    else:\n",
    "        final_col = 7\n",
    "        \n",
    "    cols_to_drop = list( range( 1, final_col ) )\n",
    "    table        = table.drop( columns = cols_to_drop )\n",
    "    \n",
    "    table            = table.rename( columns = { 0: 'State', 7: 'Percent of previous year' } )\n",
    "    table            = table.drop( [ 0, 1, 2 ], axis = 0 )\n",
    "    table[ 'State' ] = table[ 'State' ].str.replace( r'\\.{2,}', '', regex = True )\\\n",
    "                                       .str.replace(r'\\d+', '', regex=True)\\\n",
    "                                       .str.strip()\n",
    "    \n",
    "    table            = table.reset_index( drop = True )\n",
    "    \n",
    "    column_name      = 'Percent of previous year'\n",
    "    column           = table.pop( column_name )\n",
    "    table.insert( 1, column_name, column )\n",
    "\n",
    "    return table"
   ]
  },
  {
   "cell_type": "code",
   "execution_count": 69,
   "id": "92788840-1d05-4f5f-8d9f-309fc4d5fdbb",
   "metadata": {},
   "outputs": [
    {
     "data": {
      "text/html": [
       "<div>\n",
       "<style scoped>\n",
       "    .dataframe tbody tr th:only-of-type {\n",
       "        vertical-align: middle;\n",
       "    }\n",
       "\n",
       "    .dataframe tbody tr th {\n",
       "        vertical-align: top;\n",
       "    }\n",
       "\n",
       "    .dataframe thead th {\n",
       "        text-align: right;\n",
       "    }\n",
       "</style>\n",
       "<table border=\"1\" class=\"dataframe\">\n",
       "  <thead>\n",
       "    <tr style=\"text-align: right;\">\n",
       "      <th></th>\n",
       "      <th>State</th>\n",
       "      <th>Percent of previous year</th>\n",
       "      <th>2018</th>\n",
       "      <th>2019</th>\n",
       "      <th>2020</th>\n",
       "    </tr>\n",
       "  </thead>\n",
       "  <tbody>\n",
       "    <tr>\n",
       "      <th>0</th>\n",
       "      <td></td>\n",
       "      <td>(percent)</td>\n",
       "      <td>(1,000 acres)</td>\n",
       "      <td>(1,000 acres)</td>\n",
       "      <td>(1,000 acres)</td>\n",
       "    </tr>\n",
       "    <tr>\n",
       "      <th>1</th>\n",
       "      <td>Alabama</td>\n",
       "      <td>116</td>\n",
       "      <td>255</td>\n",
       "      <td>320</td>\n",
       "      <td>370</td>\n",
       "    </tr>\n",
       "    <tr>\n",
       "      <th>2</th>\n",
       "      <td>Arizona</td>\n",
       "      <td>111</td>\n",
       "      <td>80</td>\n",
       "      <td>90</td>\n",
       "      <td>100</td>\n",
       "    </tr>\n",
       "    <tr>\n",
       "      <th>3</th>\n",
       "      <td>Arkansas</td>\n",
       "      <td>104</td>\n",
       "      <td>660</td>\n",
       "      <td>770</td>\n",
       "      <td>800</td>\n",
       "    </tr>\n",
       "    <tr>\n",
       "      <th>4</th>\n",
       "      <td>California</td>\n",
       "      <td>96</td>\n",
       "      <td>430</td>\n",
       "      <td>460</td>\n",
       "      <td>440</td>\n",
       "    </tr>\n",
       "    <tr>\n",
       "      <th>5</th>\n",
       "      <td>Colorado</td>\n",
       "      <td>106</td>\n",
       "      <td>1,460</td>\n",
       "      <td>1,550</td>\n",
       "      <td>1,650</td>\n",
       "    </tr>\n",
       "    <tr>\n",
       "      <th>6</th>\n",
       "      <td>Connecticut</td>\n",
       "      <td>100</td>\n",
       "      <td>23</td>\n",
       "      <td>23</td>\n",
       "      <td>23</td>\n",
       "    </tr>\n",
       "  </tbody>\n",
       "</table>\n",
       "</div>"
      ],
      "text/plain": [
       "         State Percent of previous year           2018           2019  \\\n",
       "0                             (percent)  (1,000 acres)  (1,000 acres)   \n",
       "1      Alabama                      116            255            320   \n",
       "2      Arizona                      111             80             90   \n",
       "3     Arkansas                      104            660            770   \n",
       "4   California                       96            430            460   \n",
       "5     Colorado                      106          1,460          1,550   \n",
       "6  Connecticut                      100             23             23   \n",
       "\n",
       "            2020  \n",
       "0  (1,000 acres)  \n",
       "1            370  \n",
       "2            100  \n",
       "3            800  \n",
       "4            440  \n",
       "5          1,650  \n",
       "6             23  "
      ]
     },
     "execution_count": 69,
     "metadata": {},
     "output_type": "execute_result"
    }
   ],
   "source": [
    "file    = '../data/Part_II/camelot/pspl0320.pdf'\n",
    "n_page  = '6'\n",
    "\n",
    "df = stream_function( file, n_page )\n",
    "df.to_excel( f'../data/Part_II/camelot/extracted/pspl0320_p{ n_page }.xlsx' )\n",
    "df.head ( 7 )"
   ]
  }
 ],
 "metadata": {
  "kernelspec": {
   "display_name": "Python 3 (ipykernel)",
   "language": "python",
   "name": "python3"
  },
  "language_info": {
   "codemirror_mode": {
    "name": "ipython",
    "version": 3
   },
   "file_extension": ".py",
   "mimetype": "text/x-python",
   "name": "python",
   "nbconvert_exporter": "python",
   "pygments_lexer": "ipython3",
   "version": "3.11.5"
  }
 },
 "nbformat": 4,
 "nbformat_minor": 5
}
