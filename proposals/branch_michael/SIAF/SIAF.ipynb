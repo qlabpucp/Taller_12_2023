{
 "cells": [
  {
   "cell_type": "markdown",
   "id": "4effcb1d-21bb-43cf-b5d5-0b3203edb8e6",
   "metadata": {},
   "source": [
    "# 1. SIAF web page"
   ]
  },
  {
   "cell_type": "markdown",
   "id": "26f0992e-4177-4ee2-aa73-99d58a4360a1",
   "metadata": {},
   "source": [
    "SISTEMA INTEGRADO DE ADMINISTRACIÓN FINANCIERA DEL \n",
    "SECTOR PÚBLICO (SIAF-S). \n",
    "El SIAF-SP constituye el medio oficial para el registro, procesamiento y generación de la información relacionada con la Administración Financiera del Sector Público.)"
   ]
  },
  {
   "cell_type": "markdown",
   "id": "bc58519a-2b6f-44e7-9630-c591b1fba29c",
   "metadata": {},
   "source": [
    "#### PORTAL DE TRANSPARENCIA ECONÓMICA CONSULTA AMIGABLE"
   ]
  },
  {
   "cell_type": "markdown",
   "id": "f0b72715-cbb1-4d8d-bf0f-c34bffe2685e",
   "metadata": {},
   "source": [
    "To begin working with Selenium, it is essential to install the required libraries. To prevent conflicts with other libraries, it's advisable to create a new environment when working on a project. In Anaconda Prompt, execute the following commands to create and activate a new environment named \"wb\":\n",
    "\n",
    "```bash\n",
    "conda create -n wb\n",
    "conda activate wb\n",
    "```"
   ]
  },
  {
   "cell_type": "markdown",
   "id": "1e367ce3-a463-4108-b6cf-29bfaf5e09dd",
   "metadata": {},
   "source": [
    "Then we can install the required libraries by running the following commands: selenium\n"
   ]
  },
  {
   "cell_type": "markdown",
   "id": "490f4472-b7de-4e0c-a14a-8d2e7a37cc3c",
   "metadata": {},
   "source": [
    "A Web Driver serves as a bridge between the code and the browser, enabling automation of actions such as clicking buttons, filling out forms, and extracting information. Initializing the Web Driver in Python involves creating an instance of the WebDriver for the desired browser, such as Chrome or Firefox, and then using methods to facilitate navigation and manipulation of elements on the web page."
   ]
  },
  {
   "cell_type": "markdown",
   "id": "d43aab75-6595-45ca-bd36-c826340ffce7",
   "metadata": {},
   "source": [
    "We can maximize de window. Maximizing the window is particularly important because some web elements might only be visible or interactable when the browser is in a full-screen state."
   ]
  },
  {
   "cell_type": "markdown",
   "id": "43d5873a-d092-40c2-a264-29a0b734f5cf",
   "metadata": {},
   "source": [
    "We can emply the headless mode. This mode allows to run your browser automation tasks without opening an actual browser window. It's useful for saving system resources and running tests faster, especially on servers that don't have a display."
   ]
  },
  {
   "cell_type": "markdown",
   "id": "9c7718a2-d9bc-4c6a-9f7c-c73792e6b088",
   "metadata": {},
   "source": [
    "In Selenium, location methods are used to find elements on a web page. These methods allow you to select elements based on their HTML attributes, such as ID, name, XPath, tag name, class name, or CSS selector. Using the right locator ensures that your automation script interacts with the correct elements on the page."
   ]
  },
  {
   "cell_type": "markdown",
   "id": "640f9884-ddd8-40df-8d44-352048f8db29",
   "metadata": {},
   "source": [
    "|Method|Description|\n",
    "|---|---|\n",
    "|find_element( By.XPATH, \"xpath\" ) | Used for finding an element by its Xpath|\n",
    "|find_element( By.ID, \"id\" ) | Used for finding an element by its id|\n",
    "|find_element( By.NAME, \"name\" ) | Used for finding an element by its name attribute|\n",
    "|find_element( By.TAG_NAME, \"tag name\" ) | Used for finding an element by its HTML tag|\n",
    "|find_element( By.CLASS_NAME, \"class name\" ) | Used for finding an element by its class name|\n",
    "|find_element( By.CSS_SELECTOR, \"css selector\" )| Used for finding an element by its CSS selector|"
   ]
  },
  {
   "cell_type": "markdown",
   "id": "5907cf86-efdd-4971-8491-02f058cec7bf",
   "metadata": {},
   "source": [
    "We will try Location methods in the Congressional Bills Page"
   ]
  },
  {
   "cell_type": "code",
   "execution_count": 4,
   "id": "54841a09-0d23-4494-8993-fac3138eb145",
   "metadata": {},
   "outputs": [],
   "source": [
    "import pandas as pd\n",
    "import numpy as np\n",
    "from selenium.webdriver.common.by import By\n",
    "from io import StringIO\n",
    "import os\n",
    "import time\n",
    "import requests"
   ]
  },
  {
   "cell_type": "code",
   "execution_count": 22,
   "id": "637c3576-9e89-42ac-9a46-cc4d1ca678c0",
   "metadata": {},
   "outputs": [],
   "source": [
    "url     = 'https://wb2server.congreso.gob.pe/spley-portal/#/expediente/search'\n",
    "driver  = webdriver.Chrome()        \n",
    "driver.get( url )\n",
    "driver.maximize_window()"
   ]
  },
  {
   "cell_type": "markdown",
   "id": "c246b782-7b4a-40ff-b2a8-0186b6f13860",
   "metadata": {},
   "source": [
    "We can access the Congressional Bills Table in an static way"
   ]
  },
  {
   "cell_type": "code",
   "execution_count": 24,
   "id": "8830373c-5245-4a24-a0a1-5a8bb5d9918d",
   "metadata": {},
   "outputs": [],
   "source": [
    "table_element = driver.find_element( By.XPATH, '/html/body/app-root/app-publico/div[3]/app-search/section/div/div/p-table/div/div/table' )\n",
    "table_html    = table_element.get_attribute( 'outerHTML' )\n",
    "table_html_io = StringIO( table_html )\n",
    "table_df      = pd.read_html( table_html_io )[ 0 ]"
   ]
  },
  {
   "cell_type": "code",
   "execution_count": 25,
   "id": "208b3c8e-0c88-47d9-b145-1c3fb28887c8",
   "metadata": {},
   "outputs": [],
   "source": [
    "path_static = '../data/Part_I/Congressional_Bills'\n",
    "os.makedirs( path_static, exist_ok = True )\n",
    "\n",
    "path_table = path_static + '/Congressional_Bills.xlsx'\n",
    "table_df.to_excel( path_table, index = False )"
   ]
  },
  {
   "cell_type": "code",
   "execution_count": 26,
   "id": "a03beeba-038a-437e-8668-6c5641dcdb5a",
   "metadata": {},
   "outputs": [
    {
     "data": {
      "text/html": [
       "<div>\n",
       "<style scoped>\n",
       "    .dataframe tbody tr th:only-of-type {\n",
       "        vertical-align: middle;\n",
       "    }\n",
       "\n",
       "    .dataframe tbody tr th {\n",
       "        vertical-align: top;\n",
       "    }\n",
       "\n",
       "    .dataframe thead th {\n",
       "        text-align: right;\n",
       "    }\n",
       "</style>\n",
       "<table border=\"1\" class=\"dataframe\">\n",
       "  <thead>\n",
       "    <tr style=\"text-align: right;\">\n",
       "      <th></th>\n",
       "      <th>PROYECTOS DE LEY</th>\n",
       "      <th>FECHA DE PRESENTACIÓN</th>\n",
       "      <th>TÍTULO</th>\n",
       "      <th>ESTADO PROCESAL</th>\n",
       "      <th>PROPONENTE</th>\n",
       "      <th>AUTORES</th>\n",
       "    </tr>\n",
       "  </thead>\n",
       "  <tbody>\n",
       "    <tr>\n",
       "      <th>0</th>\n",
       "      <td>Proyecto de Ley 06691/2023-CR</td>\n",
       "      <td>Fecha de Presentación18/12/2023</td>\n",
       "      <td>TítuloLEY DE EXPULSIÓN DE EXTRANJEROS DETENIDO...</td>\n",
       "      <td>Estado ProcesalPRESENTADO</td>\n",
       "      <td>ProponenteCongreso</td>\n",
       "      <td>AutoresOlivos Martínez, Vivian Ventura Ángel, ...</td>\n",
       "    </tr>\n",
       "    <tr>\n",
       "      <th>1</th>\n",
       "      <td>Proyecto de Ley 06690/2023-CR</td>\n",
       "      <td>Fecha de Presentación18/12/2023</td>\n",
       "      <td>TítuloLEY QUE CREA LA UNIVERSIDAD NACIONAL AUT...</td>\n",
       "      <td>Estado ProcesalPRESENTADO</td>\n",
       "      <td>ProponenteCongreso</td>\n",
       "      <td>AutoresBalcázar Zelada, José María Coayla Juár...</td>\n",
       "    </tr>\n",
       "    <tr>\n",
       "      <th>2</th>\n",
       "      <td>Proyecto de Ley 06689/2023-CR</td>\n",
       "      <td>Fecha de Presentación18/12/2023</td>\n",
       "      <td>TítuloLEY MARCO PARA LA PROTECCIÓN Y FORTALECI...</td>\n",
       "      <td>Estado ProcesalPRESENTADO</td>\n",
       "      <td>ProponenteCongreso</td>\n",
       "      <td>AutoresJáuregui Martínez de Aguayo, María de l...</td>\n",
       "    </tr>\n",
       "    <tr>\n",
       "      <th>3</th>\n",
       "      <td>Proyecto de Ley 06688/2023-CR</td>\n",
       "      <td>Fecha de Presentación18/12/2023</td>\n",
       "      <td>TítuloLEY QUE ESTABLECE PARÁMETROS PARA EL SAN...</td>\n",
       "      <td>Estado ProcesalPRESENTADO</td>\n",
       "      <td>ProponenteCongreso</td>\n",
       "      <td>AutoresLimachi Quispe, Nieves Esmeralda Bazán ...</td>\n",
       "    </tr>\n",
       "    <tr>\n",
       "      <th>4</th>\n",
       "      <td>Proyecto de Ley 06687/2023-CR</td>\n",
       "      <td>Fecha de Presentación15/12/2023</td>\n",
       "      <td>TítuloLEY QUE MODIFICA EL DECRETO LEGISLATIVO ...</td>\n",
       "      <td>Estado ProcesalPRESENTADO</td>\n",
       "      <td>ProponenteCongreso</td>\n",
       "      <td>AutoresAnderson Ramírez, Carlos Antonio</td>\n",
       "    </tr>\n",
       "  </tbody>\n",
       "</table>\n",
       "</div>"
      ],
      "text/plain": [
       "                PROYECTOS DE LEY            FECHA DE PRESENTACIÓN  \\\n",
       "0  Proyecto de Ley 06691/2023-CR  Fecha de Presentación18/12/2023   \n",
       "1  Proyecto de Ley 06690/2023-CR  Fecha de Presentación18/12/2023   \n",
       "2  Proyecto de Ley 06689/2023-CR  Fecha de Presentación18/12/2023   \n",
       "3  Proyecto de Ley 06688/2023-CR  Fecha de Presentación18/12/2023   \n",
       "4  Proyecto de Ley 06687/2023-CR  Fecha de Presentación15/12/2023   \n",
       "\n",
       "                                              TÍTULO  \\\n",
       "0  TítuloLEY DE EXPULSIÓN DE EXTRANJEROS DETENIDO...   \n",
       "1  TítuloLEY QUE CREA LA UNIVERSIDAD NACIONAL AUT...   \n",
       "2  TítuloLEY MARCO PARA LA PROTECCIÓN Y FORTALECI...   \n",
       "3  TítuloLEY QUE ESTABLECE PARÁMETROS PARA EL SAN...   \n",
       "4  TítuloLEY QUE MODIFICA EL DECRETO LEGISLATIVO ...   \n",
       "\n",
       "             ESTADO PROCESAL          PROPONENTE  \\\n",
       "0  Estado ProcesalPRESENTADO  ProponenteCongreso   \n",
       "1  Estado ProcesalPRESENTADO  ProponenteCongreso   \n",
       "2  Estado ProcesalPRESENTADO  ProponenteCongreso   \n",
       "3  Estado ProcesalPRESENTADO  ProponenteCongreso   \n",
       "4  Estado ProcesalPRESENTADO  ProponenteCongreso   \n",
       "\n",
       "                                             AUTORES  \n",
       "0  AutoresOlivos Martínez, Vivian Ventura Ángel, ...  \n",
       "1  AutoresBalcázar Zelada, José María Coayla Juár...  \n",
       "2  AutoresJáuregui Martínez de Aguayo, María de l...  \n",
       "3  AutoresLimachi Quispe, Nieves Esmeralda Bazán ...  \n",
       "4            AutoresAnderson Ramírez, Carlos Antonio  "
      ]
     },
     "execution_count": 26,
     "metadata": {},
     "output_type": "execute_result"
    }
   ],
   "source": [
    "table_df.head( 5 )"
   ]
  },
  {
   "cell_type": "markdown",
   "id": "4aae7cb8-5ef4-43b2-ac06-ffac16cdcfb8",
   "metadata": {},
   "source": [
    "We can access the Congressional Bills Tables in a dinamic way for the first five pages"
   ]
  },
  {
   "cell_type": "code",
   "execution_count": 8,
   "id": "77d4822d-c469-483c-b9be-89115e63b836",
   "metadata": {},
   "outputs": [],
   "source": [
    "path_dinamic = path_static + '/dinamic'\n",
    "os.makedirs( path_dinamic, exist_ok = True )\n",
    "\n",
    "for index in np.arange( 1, 6, step = 1 ):\n",
    "\n",
    "    table_element = driver.find_element( By.XPATH, '/html/body/app-root/app-publico/div[3]/app-search/section/div/div/p-table/div/div/table' )\n",
    "    table_html    = table_element.get_attribute( 'outerHTML' )\n",
    "    table_html_io = StringIO( table_html )\n",
    "    table_df_d    = pd.read_html( table_html_io )[ 0 ]\n",
    "\n",
    "    next_button   = driver.find_element( By.XPATH, '/html/body/app-root/app-publico/div[3]/app-search/section/div/div/p-table/div/p-paginator[1]/div/button[3]' )\n",
    "    next_button.click()\n",
    "\n",
    "    time.sleep( 2 )\n",
    "\n",
    "    path_table = path_dinamic + f'/Congressional_Bills_n_{ index }.xlsx'\n",
    "    table_df_d.to_excel( path_table, index = False )"
   ]
  },
  {
   "cell_type": "markdown",
   "id": "5dfa994e-dde1-4d63-8242-653688c5a154",
   "metadata": {},
   "source": [
    "\n",
    "To determine the total number of pagination buttons, we retrieve the text from the last pagination button."
   ]
  },
  {
   "cell_type": "code",
   "execution_count": 9,
   "id": "9eecc36e-bf1c-4825-9fd1-d6bab7b0192e",
   "metadata": {
    "scrolled": true
   },
   "outputs": [
    {
     "name": "stdout",
     "output_type": "stream",
     "text": [
      "N. Pagination Buttons is: 134\n"
     ]
    }
   ],
   "source": [
    "pagination_next_button = driver.find_element( By.XPATH, '/html/body/app-root/app-publico/div[3]/app-search/section/div/div/p-table/div/p-paginator[1]/div/button[4]' )\n",
    "pagination_next_button.click()\n",
    "\n",
    "time.sleep( 2 )\n",
    "\n",
    "last_pagination_button = driver.find_element( By.XPATH, '/html/body/app-root/app-publico/div[3]/app-search/section/div/div/p-table/div/p-paginator[1]/div/span[2]/button[5]' )\n",
    "n_pagination_buttons   = last_pagination_button.text\n",
    "print( f'N. Pagination Buttons is: { n_pagination_buttons }' )"
   ]
  },
  {
   "cell_type": "code",
   "execution_count": 10,
   "id": "b90117eb-9426-473e-8253-8ee80cbea344",
   "metadata": {},
   "outputs": [],
   "source": [
    "# driver.quit()"
   ]
  },
  {
   "cell_type": "markdown",
   "id": "776555a8-7668-4c00-bef9-033a4cc7b811",
   "metadata": {},
   "source": [
    "We can downlad the PDF documents for Congressional Bills as well. We start importing the Options function"
   ]
  },
  {
   "cell_type": "code",
   "execution_count": 11,
   "id": "9677fd69-b592-4829-b9c3-b87a27f4f5c1",
   "metadata": {},
   "outputs": [],
   "source": [
    "from selenium.webdriver.chrome.options import Options"
   ]
  },
  {
   "cell_type": "markdown",
   "id": "fb167d75-b55e-4c42-a278-2dfcc0b433a4",
   "metadata": {},
   "source": [
    "We then retrieve the ID for each bill listed in `table_df`. Additionally, we establish the base URL."
   ]
  },
  {
   "cell_type": "code",
   "execution_count": 28,
   "id": "f080f0b1-c9e1-4fbf-8baf-7b29be9bff72",
   "metadata": {},
   "outputs": [],
   "source": [
    "bills_id = table_df[ 'PROYECTOS DE LEY' ].apply( lambda x: x.split( 'Ley ' )[ 1 ].split( '/' )[ 0 ] ).tolist()\n",
    "\n",
    "base_url   = 'https://wb2server.congreso.gob.pe/spley-portal/#/expediente/2021/'"
   ]
  },
  {
   "cell_type": "code",
   "execution_count": 30,
   "id": "ecd3dd2a-501e-4950-937d-5e820910f177",
   "metadata": {},
   "outputs": [],
   "source": [
    "path_pdf = path_static + '/pdf_docs'\n",
    "os.makedirs( path_pdf, exist_ok = True )"
   ]
  },
  {
   "cell_type": "code",
   "execution_count": 37,
   "id": "58c5347d-dfb5-4a02-8ad7-c9d0be14a0d4",
   "metadata": {},
   "outputs": [
    {
     "name": "stdout",
     "output_type": "stream",
     "text": [
      "Success downloading bill: 06691\n",
      "Success downloading bill: 06690\n",
      "Success downloading bill: 06689\n",
      "Success downloading bill: 06688\n",
      "Success downloading bill: 06687\n"
     ]
    }
   ],
   "source": [
    "chrome_options = Options()\n",
    "\n",
    "prefs = {\n",
    "    'download.default_directory'        : r'C:\\Users\\dell\\Documents\\GitHub_Old\\Taller_12_2023\\data\\Part_I\\Congressional_Bills\\pdf_docs',\n",
    "    'download.prompt_for_download'      : False,\n",
    "    'download.directory_upgrade'        : True,\n",
    "    'plugins.always_open_pdf_externally': True\n",
    "}\n",
    "\n",
    "chrome_options.add_experimental_option( 'prefs', prefs )\n",
    "\n",
    "driver = webdriver.Chrome( options = chrome_options )\n",
    "url = 'https://wb2server.congreso.gob.pe/spley-portal/#/expediente/search'\n",
    "driver.get(url)\n",
    "driver.maximize_window()\n",
    "\n",
    "n_items = 5\n",
    "\n",
    "for i, bill in enumerate( bills_id[ :n_items ] ):\n",
    "    bill_url = base_url + bill\n",
    "    driver.get( bill_url )\n",
    "\n",
    "    time.sleep( 5 )\n",
    "\n",
    "    try:\n",
    "        pdf_button = driver.find_element( By.XPATH, '//*[@id=\"p-tabpanel-0\"]/p-table/div/div/table/tbody/tr/td[5]/button' )\n",
    "        pdf_button.click()\n",
    "\n",
    "        print( f'Success downloading bill: { bill }' )\n",
    "        \n",
    "    except Exception as e:\n",
    "       \n",
    "        print( f'We did not find PDF button for { bill_url }: {e}' )\n",
    "\n",
    "    time.sleep( 5 )\n",
    "\n",
    "    if i == ( n_items - 1 ):\n",
    "\n",
    "        time.sleep( 10 )\n",
    "\n",
    "driver.quit()"
   ]
  },
  {
   "cell_type": "markdown",
   "id": "bb84df5f-5b8f-431a-9764-28b5ccfe23a4",
   "metadata": {},
   "source": [
    "Now let's try to scrape the SIAF web page"
   ]
  },
  {
   "cell_type": "code",
   "execution_count": 38,
   "id": "3a93092a-2dde-4660-a71c-966e7a0038bc",
   "metadata": {},
   "outputs": [],
   "source": [
    "url     = 'https://apps5.mineco.gob.pe/transparencia/Navegador/default.aspx?y=2023&ap=ActProy'\n",
    "driver  = webdriver.Chrome()        \n",
    "driver.get( url )\n",
    "driver.maximize_window()"
   ]
  },
  {
   "cell_type": "code",
   "execution_count": 39,
   "id": "b20483d1-ea1c-4157-b0e9-2ddd45cf15e7",
   "metadata": {
    "collapsed": true,
    "jupyter": {
     "outputs_hidden": true
    },
    "scrolled": true
   },
   "outputs": [
    {
     "ename": "NoSuchElementException",
     "evalue": "Message: no such element: Unable to locate element: {\"method\":\"xpath\",\"selector\":\"//*[@id=\"ctl00_CPH1_BtnTipoGobierno\"]\"}\n  (Session info: chrome=120.0.6099.109); For documentation on this error, please visit: https://www.selenium.dev/documentation/webdriver/troubleshooting/errors#no-such-element-exception\nStacktrace:\n\tGetHandleVerifier [0x00007FF7AA4A2142+3514994]\n\t(No symbol) [0x00007FF7AA0C0CE2]\n\t(No symbol) [0x00007FF7A9F676AA]\n\t(No symbol) [0x00007FF7A9FB1860]\n\t(No symbol) [0x00007FF7A9FB197C]\n\t(No symbol) [0x00007FF7A9FF4EE7]\n\t(No symbol) [0x00007FF7A9FD602F]\n\t(No symbol) [0x00007FF7A9FF28F6]\n\t(No symbol) [0x00007FF7A9FD5D93]\n\t(No symbol) [0x00007FF7A9FA4BDC]\n\t(No symbol) [0x00007FF7A9FA5C64]\n\tGetHandleVerifier [0x00007FF7AA4CE16B+3695259]\n\tGetHandleVerifier [0x00007FF7AA526737+4057191]\n\tGetHandleVerifier [0x00007FF7AA51E4E3+4023827]\n\tGetHandleVerifier [0x00007FF7AA1F04F9+689705]\n\t(No symbol) [0x00007FF7AA0CC048]\n\t(No symbol) [0x00007FF7AA0C8044]\n\t(No symbol) [0x00007FF7AA0C81C9]\n\t(No symbol) [0x00007FF7AA0B88C4]\n\tBaseThreadInitThunk [0x00007FF8C2E17344+20]\n\tRtlUserThreadStart [0x00007FF8C32E26B1+33]\n",
     "output_type": "error",
     "traceback": [
      "\u001b[1;31m---------------------------------------------------------------------------\u001b[0m",
      "\u001b[1;31mNoSuchElementException\u001b[0m                    Traceback (most recent call last)",
      "Cell \u001b[1;32mIn[39], line 1\u001b[0m\n\u001b[1;32m----> 1\u001b[0m goverment_levels_button \u001b[38;5;241m=\u001b[39m driver\u001b[38;5;241m.\u001b[39mfind_element( By\u001b[38;5;241m.\u001b[39mXPATH, \u001b[38;5;124m'\u001b[39m\u001b[38;5;124m//*[@id=\u001b[39m\u001b[38;5;124m\"\u001b[39m\u001b[38;5;124mctl00_CPH1_BtnTipoGobierno\u001b[39m\u001b[38;5;124m\"\u001b[39m\u001b[38;5;124m]\u001b[39m\u001b[38;5;124m'\u001b[39m )\n\u001b[0;32m      2\u001b[0m goverment_levels_button\u001b[38;5;241m.\u001b[39mclick()\n",
      "File \u001b[1;32m~\\anaconda3\\envs\\wb\\Lib\\site-packages\\selenium\\webdriver\\remote\\webdriver.py:742\u001b[0m, in \u001b[0;36mWebDriver.find_element\u001b[1;34m(self, by, value)\u001b[0m\n\u001b[0;32m    739\u001b[0m     by \u001b[38;5;241m=\u001b[39m By\u001b[38;5;241m.\u001b[39mCSS_SELECTOR\n\u001b[0;32m    740\u001b[0m     value \u001b[38;5;241m=\u001b[39m \u001b[38;5;124mf\u001b[39m\u001b[38;5;124m'\u001b[39m\u001b[38;5;124m[name=\u001b[39m\u001b[38;5;124m\"\u001b[39m\u001b[38;5;132;01m{\u001b[39;00mvalue\u001b[38;5;132;01m}\u001b[39;00m\u001b[38;5;124m\"\u001b[39m\u001b[38;5;124m]\u001b[39m\u001b[38;5;124m'\u001b[39m\n\u001b[1;32m--> 742\u001b[0m \u001b[38;5;28;01mreturn\u001b[39;00m \u001b[38;5;28mself\u001b[39m\u001b[38;5;241m.\u001b[39mexecute(Command\u001b[38;5;241m.\u001b[39mFIND_ELEMENT, {\u001b[38;5;124m\"\u001b[39m\u001b[38;5;124musing\u001b[39m\u001b[38;5;124m\"\u001b[39m: by, \u001b[38;5;124m\"\u001b[39m\u001b[38;5;124mvalue\u001b[39m\u001b[38;5;124m\"\u001b[39m: value})[\u001b[38;5;124m\"\u001b[39m\u001b[38;5;124mvalue\u001b[39m\u001b[38;5;124m\"\u001b[39m]\n",
      "File \u001b[1;32m~\\anaconda3\\envs\\wb\\Lib\\site-packages\\selenium\\webdriver\\remote\\webdriver.py:348\u001b[0m, in \u001b[0;36mWebDriver.execute\u001b[1;34m(self, driver_command, params)\u001b[0m\n\u001b[0;32m    346\u001b[0m response \u001b[38;5;241m=\u001b[39m \u001b[38;5;28mself\u001b[39m\u001b[38;5;241m.\u001b[39mcommand_executor\u001b[38;5;241m.\u001b[39mexecute(driver_command, params)\n\u001b[0;32m    347\u001b[0m \u001b[38;5;28;01mif\u001b[39;00m response:\n\u001b[1;32m--> 348\u001b[0m     \u001b[38;5;28mself\u001b[39m\u001b[38;5;241m.\u001b[39merror_handler\u001b[38;5;241m.\u001b[39mcheck_response(response)\n\u001b[0;32m    349\u001b[0m     response[\u001b[38;5;124m\"\u001b[39m\u001b[38;5;124mvalue\u001b[39m\u001b[38;5;124m\"\u001b[39m] \u001b[38;5;241m=\u001b[39m \u001b[38;5;28mself\u001b[39m\u001b[38;5;241m.\u001b[39m_unwrap_value(response\u001b[38;5;241m.\u001b[39mget(\u001b[38;5;124m\"\u001b[39m\u001b[38;5;124mvalue\u001b[39m\u001b[38;5;124m\"\u001b[39m, \u001b[38;5;28;01mNone\u001b[39;00m))\n\u001b[0;32m    350\u001b[0m     \u001b[38;5;28;01mreturn\u001b[39;00m response\n",
      "File \u001b[1;32m~\\anaconda3\\envs\\wb\\Lib\\site-packages\\selenium\\webdriver\\remote\\errorhandler.py:229\u001b[0m, in \u001b[0;36mErrorHandler.check_response\u001b[1;34m(self, response)\u001b[0m\n\u001b[0;32m    227\u001b[0m         alert_text \u001b[38;5;241m=\u001b[39m value[\u001b[38;5;124m\"\u001b[39m\u001b[38;5;124malert\u001b[39m\u001b[38;5;124m\"\u001b[39m]\u001b[38;5;241m.\u001b[39mget(\u001b[38;5;124m\"\u001b[39m\u001b[38;5;124mtext\u001b[39m\u001b[38;5;124m\"\u001b[39m)\n\u001b[0;32m    228\u001b[0m     \u001b[38;5;28;01mraise\u001b[39;00m exception_class(message, screen, stacktrace, alert_text)  \u001b[38;5;66;03m# type: ignore[call-arg]  # mypy is not smart enough here\u001b[39;00m\n\u001b[1;32m--> 229\u001b[0m \u001b[38;5;28;01mraise\u001b[39;00m exception_class(message, screen, stacktrace)\n",
      "\u001b[1;31mNoSuchElementException\u001b[0m: Message: no such element: Unable to locate element: {\"method\":\"xpath\",\"selector\":\"//*[@id=\"ctl00_CPH1_BtnTipoGobierno\"]\"}\n  (Session info: chrome=120.0.6099.109); For documentation on this error, please visit: https://www.selenium.dev/documentation/webdriver/troubleshooting/errors#no-such-element-exception\nStacktrace:\n\tGetHandleVerifier [0x00007FF7AA4A2142+3514994]\n\t(No symbol) [0x00007FF7AA0C0CE2]\n\t(No symbol) [0x00007FF7A9F676AA]\n\t(No symbol) [0x00007FF7A9FB1860]\n\t(No symbol) [0x00007FF7A9FB197C]\n\t(No symbol) [0x00007FF7A9FF4EE7]\n\t(No symbol) [0x00007FF7A9FD602F]\n\t(No symbol) [0x00007FF7A9FF28F6]\n\t(No symbol) [0x00007FF7A9FD5D93]\n\t(No symbol) [0x00007FF7A9FA4BDC]\n\t(No symbol) [0x00007FF7A9FA5C64]\n\tGetHandleVerifier [0x00007FF7AA4CE16B+3695259]\n\tGetHandleVerifier [0x00007FF7AA526737+4057191]\n\tGetHandleVerifier [0x00007FF7AA51E4E3+4023827]\n\tGetHandleVerifier [0x00007FF7AA1F04F9+689705]\n\t(No symbol) [0x00007FF7AA0CC048]\n\t(No symbol) [0x00007FF7AA0C8044]\n\t(No symbol) [0x00007FF7AA0C81C9]\n\t(No symbol) [0x00007FF7AA0B88C4]\n\tBaseThreadInitThunk [0x00007FF8C2E17344+20]\n\tRtlUserThreadStart [0x00007FF8C32E26B1+33]\n"
     ]
    }
   ],
   "source": [
    "goverment_levels_button = driver.find_element( By.XPATH, '//*[@id=\"ctl00_CPH1_BtnTipoGobierno\"]' )\n",
    "goverment_levels_button.click()"
   ]
  },
  {
   "cell_type": "markdown",
   "id": "6d3ba3de-5f8f-448a-9418-5b93686d89b2",
   "metadata": {},
   "source": [
    "An \"iframe\", short for \"inline frame\", is an HTML element used to embed another web page within a parent page. In web scraping, it's important to identify iframes because they have their own separate DOM (Document Object Model). Elements within an iframe cannot be directly accessed from the main page's DOM. Therefore, to interact with or extract data from elements inside an iframe, one must first switch to the iframe's context. Failure to do so will result in an inability to locate and manipulate these elements, making understanding and handling iframes essential for successful scraping of complex web pages."
   ]
  },
  {
   "cell_type": "code",
   "execution_count": 41,
   "id": "25242835-26be-4a2d-9244-2d909e06d3a0",
   "metadata": {},
   "outputs": [
    {
     "name": "stdout",
     "output_type": "stream",
     "text": [
      "There are frames in this web page.\n",
      "HTML code of frame 0:\n",
      "<frame name=\"frame0\" id=\"frame0\" src=\"Navegar.aspx?y=2023&amp;ap=ActProy\" scrolling=\"yes\">\n"
     ]
    }
   ],
   "source": [
    "frames = driver.find_elements( By.TAG_NAME, \"frame\" )\n",
    "if frames:\n",
    "    print( 'There are frames in this web page.' )\n",
    "    for i, frame in enumerate( frames ):\n",
    "        frame_html = frame.get_attribute( 'outerHTML' )\n",
    "        print( f'HTML code of frame { i }:' )\n",
    "        print( frame_html )\n",
    "else:\n",
    "    print('No frames found on the page.' )"
   ]
  },
  {
   "cell_type": "markdown",
   "id": "2e6fc483-22b4-4871-b303-e7ea93839a48",
   "metadata": {},
   "source": [
    "Once identified the frame/iframe we can use the switch to frame method"
   ]
  },
  {
   "cell_type": "code",
   "execution_count": 42,
   "id": "3c2fdff6-3724-4bcc-8143-93cecc1cdf8f",
   "metadata": {},
   "outputs": [],
   "source": [
    "frame = driver.find_element( By.ID, \"frame0\" )\n",
    "driver.switch_to.frame( frame )"
   ]
  },
  {
   "cell_type": "markdown",
   "id": "1db33fd7-1c99-44f3-ac19-a7687785b8c7",
   "metadata": {},
   "source": [
    "Now we can click the Government Levels button"
   ]
  },
  {
   "cell_type": "code",
   "execution_count": 43,
   "id": "93242078-2a49-4bf8-a88d-ebf0d98680e2",
   "metadata": {},
   "outputs": [],
   "source": [
    "goverment_levels_button = driver.find_element( By.XPATH, '//*[@id=\"ctl00_CPH1_BtnTipoGobierno\"]' )\n",
    "goverment_levels_button.click()"
   ]
  },
  {
   "cell_type": "markdown",
   "id": "da8177a9-d6f5-47db-8035-ec9100bfadc6",
   "metadata": {},
   "source": [
    "Let's access some data from Regional Governments"
   ]
  },
  {
   "cell_type": "code",
   "execution_count": 44,
   "id": "6d50490c-d068-4cca-8f9c-968e015d0379",
   "metadata": {},
   "outputs": [],
   "source": [
    "regional_governments_level_button = driver.find_element( By.XPATH, '//*[@id=\"ctl00_CPH1_RptData_ctl03_TD0\"]/input' )\n",
    "regional_governments_level_button.click()\n",
    "\n",
    "time.sleep( 2 )\n",
    "\n",
    "sector_button = driver.find_element( By.XPATH, '//*[@id=\"ctl00_CPH1_BtnSector\"]' )\n",
    "sector_button.click()\n",
    "\n",
    "time.sleep( 2 )\n",
    "\n",
    "regional_goverments_button = driver.find_element( By.XPATH, '//*[@id=\"ctl00_CPH1_RptData_ctl02_TD0\"]/input' )\n",
    "regional_goverments_button.click()\n",
    "\n",
    "time.sleep( 2 )\n",
    "\n",
    "pliego_button = driver.find_element( By.XPATH, '//*[@id=\"ctl00_CPH1_BtnPliego\"]' )\n",
    "pliego_button.click()"
   ]
  },
  {
   "cell_type": "code",
   "execution_count": 45,
   "id": "1dc5d40e-183d-4730-909d-315a79d6d5d8",
   "metadata": {},
   "outputs": [],
   "source": [
    "table_element = driver.find_element( By.XPATH, \"//table[@class='Data']\" )\n",
    "table_html    = table_element.get_attribute( 'outerHTML' )\n",
    "table_html_io = StringIO( table_html )\n",
    "table_df      = pd.read_html( table_html_io )[ 0 ]"
   ]
  },
  {
   "cell_type": "code",
   "execution_count": 46,
   "id": "e802e2eb-1559-4035-a26a-f6173dd7f250",
   "metadata": {},
   "outputs": [
    {
     "data": {
      "text/html": [
       "<div>\n",
       "<style scoped>\n",
       "    .dataframe tbody tr th:only-of-type {\n",
       "        vertical-align: middle;\n",
       "    }\n",
       "\n",
       "    .dataframe tbody tr th {\n",
       "        vertical-align: top;\n",
       "    }\n",
       "\n",
       "    .dataframe thead th {\n",
       "        text-align: right;\n",
       "    }\n",
       "</style>\n",
       "<table border=\"1\" class=\"dataframe\">\n",
       "  <thead>\n",
       "    <tr style=\"text-align: right;\">\n",
       "      <th></th>\n",
       "      <th>0</th>\n",
       "      <th>1</th>\n",
       "      <th>2</th>\n",
       "      <th>3</th>\n",
       "      <th>4</th>\n",
       "      <th>5</th>\n",
       "      <th>6</th>\n",
       "      <th>7</th>\n",
       "      <th>8</th>\n",
       "      <th>9</th>\n",
       "    </tr>\n",
       "  </thead>\n",
       "  <tbody>\n",
       "    <tr>\n",
       "      <th>0</th>\n",
       "      <td>NaN</td>\n",
       "      <td>440: GOBIERNO REGIONAL DEL DEPARTAMENTO DE AMA...</td>\n",
       "      <td>1179543064</td>\n",
       "      <td>1504888953</td>\n",
       "      <td>1463829153</td>\n",
       "      <td>1332523428</td>\n",
       "      <td>1308523245</td>\n",
       "      <td>1279150903</td>\n",
       "      <td>1178443440</td>\n",
       "      <td>85.0</td>\n",
       "    </tr>\n",
       "    <tr>\n",
       "      <th>1</th>\n",
       "      <td>NaN</td>\n",
       "      <td>441: GOBIERNO REGIONAL DEL DEPARTAMENTO DE ANCASH</td>\n",
       "      <td>2535471411</td>\n",
       "      <td>2996975486</td>\n",
       "      <td>2720233624</td>\n",
       "      <td>2448148507</td>\n",
       "      <td>2402360853</td>\n",
       "      <td>2292571159</td>\n",
       "      <td>2271082289</td>\n",
       "      <td>76.5</td>\n",
       "    </tr>\n",
       "    <tr>\n",
       "      <th>2</th>\n",
       "      <td>NaN</td>\n",
       "      <td>442: GOBIERNO REGIONAL DEL DEPARTAMENTO DE APU...</td>\n",
       "      <td>1219427445</td>\n",
       "      <td>1513009025</td>\n",
       "      <td>1375547684</td>\n",
       "      <td>1331036632</td>\n",
       "      <td>1311524288</td>\n",
       "      <td>1257485229</td>\n",
       "      <td>1234622502</td>\n",
       "      <td>83.1</td>\n",
       "    </tr>\n",
       "    <tr>\n",
       "      <th>3</th>\n",
       "      <td>NaN</td>\n",
       "      <td>443: GOBIERNO REGIONAL DEL DEPARTAMENTO DE ARE...</td>\n",
       "      <td>2380402279</td>\n",
       "      <td>3153553160</td>\n",
       "      <td>2838882882</td>\n",
       "      <td>2714483554</td>\n",
       "      <td>2672481083</td>\n",
       "      <td>2589568212</td>\n",
       "      <td>2577943145</td>\n",
       "      <td>82.1</td>\n",
       "    </tr>\n",
       "    <tr>\n",
       "      <th>4</th>\n",
       "      <td>NaN</td>\n",
       "      <td>444: GOBIERNO REGIONAL DEL DEPARTAMENTO DE AYA...</td>\n",
       "      <td>1739949908</td>\n",
       "      <td>2250344232</td>\n",
       "      <td>2084312392</td>\n",
       "      <td>2025983577</td>\n",
       "      <td>1941676557</td>\n",
       "      <td>1885327467</td>\n",
       "      <td>1865571064</td>\n",
       "      <td>83.8</td>\n",
       "    </tr>\n",
       "  </tbody>\n",
       "</table>\n",
       "</div>"
      ],
      "text/plain": [
       "    0                                                  1           2  \\\n",
       "0 NaN  440: GOBIERNO REGIONAL DEL DEPARTAMENTO DE AMA...  1179543064   \n",
       "1 NaN  441: GOBIERNO REGIONAL DEL DEPARTAMENTO DE ANCASH  2535471411   \n",
       "2 NaN  442: GOBIERNO REGIONAL DEL DEPARTAMENTO DE APU...  1219427445   \n",
       "3 NaN  443: GOBIERNO REGIONAL DEL DEPARTAMENTO DE ARE...  2380402279   \n",
       "4 NaN  444: GOBIERNO REGIONAL DEL DEPARTAMENTO DE AYA...  1739949908   \n",
       "\n",
       "            3           4           5           6           7           8  \\\n",
       "0  1504888953  1463829153  1332523428  1308523245  1279150903  1178443440   \n",
       "1  2996975486  2720233624  2448148507  2402360853  2292571159  2271082289   \n",
       "2  1513009025  1375547684  1331036632  1311524288  1257485229  1234622502   \n",
       "3  3153553160  2838882882  2714483554  2672481083  2589568212  2577943145   \n",
       "4  2250344232  2084312392  2025983577  1941676557  1885327467  1865571064   \n",
       "\n",
       "      9  \n",
       "0  85.0  \n",
       "1  76.5  \n",
       "2  83.1  \n",
       "3  82.1  \n",
       "4  83.8  "
      ]
     },
     "execution_count": 46,
     "metadata": {},
     "output_type": "execute_result"
    }
   ],
   "source": [
    "table_df.head( 5 )"
   ]
  },
  {
   "cell_type": "markdown",
   "id": "2315b600-edf0-4d24-9a80-651f8f1aba3f",
   "metadata": {},
   "source": [
    "We are missing the titles (headers). We will find them by locating them through their TAG NAMES."
   ]
  },
  {
   "cell_type": "code",
   "execution_count": 47,
   "id": "6167df16-9c48-4822-ae0b-8555a0686d79",
   "metadata": {},
   "outputs": [
    {
     "name": "stdout",
     "output_type": "stream",
     "text": [
      "[' ', 'Pliego', 'PIA', 'PIM', 'Certificación', 'Compromiso Anual', 'Ejecución', 'Avance % ']\n",
      "['Atención de Compromiso Mensual ', 'Devengado ', 'Girado ']\n"
     ]
    }
   ],
   "source": [
    "headers_elements_r0 = driver.find_element( By.XPATH, '//*[@id=\"ctl00_CPH1_Mt0_Row0\"]' ).find_elements( By.TAG_NAME, 'td' )\n",
    "headers_r0          = [ element.text for element in headers_elements_r0 ]\n",
    "\n",
    "headers_elements_r1 = driver.find_element( By.XPATH, '//*[@id=\"ctl00_CPH1_Mt0_Row1\"]' ).find_elements( By.TAG_NAME, 'td' )\n",
    "headers_r1          = [ element.text for element in headers_elements_r1 ]\n",
    "\n",
    "print( headers_r0, headers_r1, sep = '\\n' )"
   ]
  },
  {
   "cell_type": "code",
   "execution_count": 48,
   "id": "1e21df03-5b45-446a-af64-02288cc631c2",
   "metadata": {},
   "outputs": [],
   "source": [
    "driver.quit()"
   ]
  },
  {
   "cell_type": "code",
   "execution_count": 49,
   "id": "9081ede9-b461-4795-b82c-1860f73d4689",
   "metadata": {},
   "outputs": [
    {
     "name": "stdout",
     "output_type": "stream",
     "text": [
      "[' ', 'Pliego', 'PIA', 'PIM', 'Certificación', 'Compromiso Anual', 'Atención de Compromiso Mensual ', 'Devengado ', 'Girado ', 'Avance %']\n"
     ]
    }
   ],
   "source": [
    "headers_r0 = [ header for header in headers_r0 if header not in [ 'Ejecución', 'Avance % ' ] ]\n",
    "headers = headers_r0 + headers_r1 + [ 'Avance %' ]\n",
    "print( headers )"
   ]
  },
  {
   "cell_type": "code",
   "execution_count": 50,
   "id": "3bfe7c94-d627-45e8-81c7-11a60cec271d",
   "metadata": {},
   "outputs": [
    {
     "data": {
      "text/html": [
       "<div>\n",
       "<style scoped>\n",
       "    .dataframe tbody tr th:only-of-type {\n",
       "        vertical-align: middle;\n",
       "    }\n",
       "\n",
       "    .dataframe tbody tr th {\n",
       "        vertical-align: top;\n",
       "    }\n",
       "\n",
       "    .dataframe thead th {\n",
       "        text-align: right;\n",
       "    }\n",
       "</style>\n",
       "<table border=\"1\" class=\"dataframe\">\n",
       "  <thead>\n",
       "    <tr style=\"text-align: right;\">\n",
       "      <th></th>\n",
       "      <th>Pliego</th>\n",
       "      <th>PIA</th>\n",
       "      <th>PIM</th>\n",
       "      <th>Certificación</th>\n",
       "      <th>Compromiso Anual</th>\n",
       "      <th>Atención de Compromiso Mensual</th>\n",
       "      <th>Devengado</th>\n",
       "      <th>Girado</th>\n",
       "      <th>Avance %</th>\n",
       "    </tr>\n",
       "  </thead>\n",
       "  <tbody>\n",
       "    <tr>\n",
       "      <th>0</th>\n",
       "      <td>440: GOBIERNO REGIONAL DEL DEPARTAMENTO DE AMA...</td>\n",
       "      <td>1179543064</td>\n",
       "      <td>1504888953</td>\n",
       "      <td>1463829153</td>\n",
       "      <td>1332523428</td>\n",
       "      <td>1308523245</td>\n",
       "      <td>1279150903</td>\n",
       "      <td>1178443440</td>\n",
       "      <td>85.0</td>\n",
       "    </tr>\n",
       "    <tr>\n",
       "      <th>1</th>\n",
       "      <td>441: GOBIERNO REGIONAL DEL DEPARTAMENTO DE ANCASH</td>\n",
       "      <td>2535471411</td>\n",
       "      <td>2996975486</td>\n",
       "      <td>2720233624</td>\n",
       "      <td>2448148507</td>\n",
       "      <td>2402360853</td>\n",
       "      <td>2292571159</td>\n",
       "      <td>2271082289</td>\n",
       "      <td>76.5</td>\n",
       "    </tr>\n",
       "    <tr>\n",
       "      <th>2</th>\n",
       "      <td>442: GOBIERNO REGIONAL DEL DEPARTAMENTO DE APU...</td>\n",
       "      <td>1219427445</td>\n",
       "      <td>1513009025</td>\n",
       "      <td>1375547684</td>\n",
       "      <td>1331036632</td>\n",
       "      <td>1311524288</td>\n",
       "      <td>1257485229</td>\n",
       "      <td>1234622502</td>\n",
       "      <td>83.1</td>\n",
       "    </tr>\n",
       "    <tr>\n",
       "      <th>3</th>\n",
       "      <td>443: GOBIERNO REGIONAL DEL DEPARTAMENTO DE ARE...</td>\n",
       "      <td>2380402279</td>\n",
       "      <td>3153553160</td>\n",
       "      <td>2838882882</td>\n",
       "      <td>2714483554</td>\n",
       "      <td>2672481083</td>\n",
       "      <td>2589568212</td>\n",
       "      <td>2577943145</td>\n",
       "      <td>82.1</td>\n",
       "    </tr>\n",
       "    <tr>\n",
       "      <th>4</th>\n",
       "      <td>444: GOBIERNO REGIONAL DEL DEPARTAMENTO DE AYA...</td>\n",
       "      <td>1739949908</td>\n",
       "      <td>2250344232</td>\n",
       "      <td>2084312392</td>\n",
       "      <td>2025983577</td>\n",
       "      <td>1941676557</td>\n",
       "      <td>1885327467</td>\n",
       "      <td>1865571064</td>\n",
       "      <td>83.8</td>\n",
       "    </tr>\n",
       "  </tbody>\n",
       "</table>\n",
       "</div>"
      ],
      "text/plain": [
       "                                              Pliego         PIA         PIM  \\\n",
       "0  440: GOBIERNO REGIONAL DEL DEPARTAMENTO DE AMA...  1179543064  1504888953   \n",
       "1  441: GOBIERNO REGIONAL DEL DEPARTAMENTO DE ANCASH  2535471411  2996975486   \n",
       "2  442: GOBIERNO REGIONAL DEL DEPARTAMENTO DE APU...  1219427445  1513009025   \n",
       "3  443: GOBIERNO REGIONAL DEL DEPARTAMENTO DE ARE...  2380402279  3153553160   \n",
       "4  444: GOBIERNO REGIONAL DEL DEPARTAMENTO DE AYA...  1739949908  2250344232   \n",
       "\n",
       "   Certificación  Compromiso Anual  Atención de Compromiso Mensual   \\\n",
       "0     1463829153        1332523428                       1308523245   \n",
       "1     2720233624        2448148507                       2402360853   \n",
       "2     1375547684        1331036632                       1311524288   \n",
       "3     2838882882        2714483554                       2672481083   \n",
       "4     2084312392        2025983577                       1941676557   \n",
       "\n",
       "   Devengado      Girado   Avance %  \n",
       "0  1279150903  1178443440      85.0  \n",
       "1  2292571159  2271082289      76.5  \n",
       "2  1257485229  1234622502      83.1  \n",
       "3  2589568212  2577943145      82.1  \n",
       "4  1885327467  1865571064      83.8  "
      ]
     },
     "execution_count": 50,
     "metadata": {},
     "output_type": "execute_result"
    }
   ],
   "source": [
    "table_df.columns = headers\n",
    "table_df = table_df.drop( table_df.columns[ 0 ], axis = 1 )\n",
    "table_df.head( 5 )"
   ]
  },
  {
   "cell_type": "code",
   "execution_count": 57,
   "id": "c38fc140-ce9e-43c1-8347-4a69edc34af7",
   "metadata": {},
   "outputs": [],
   "source": [
    "path_siaf          = '../data/Part_I/SIAF'\n",
    "path_siaf_regional = path_siaf + '/regional'\n",
    "os.makedirs( path_siaf_regional, exist_ok = True )"
   ]
  },
  {
   "cell_type": "code",
   "execution_count": 52,
   "id": "fe447c60-b44c-47fc-ab20-0dab41210ea2",
   "metadata": {},
   "outputs": [],
   "source": [
    "table_path = path_siaf_regional + '/regional_table.xlsx'\n",
    "table_df.to_excel( table_path, index = False )"
   ]
  },
  {
   "cell_type": "markdown",
   "id": "9c3e6cf1-b3f0-416d-9bcc-8eb5477c50ce",
   "metadata": {},
   "source": [
    "## 3.5. Generating URLs in the SIAF Database"
   ]
  },
  {
   "cell_type": "markdown",
   "id": "3ec885e3-82b6-4c8e-ab48-3ecc6c2d8e72",
   "metadata": {},
   "source": [
    "We can manipulate SIAF URLs to directly access data at the districtal and provincial levels. The SIAF database employs concatenators, represented by the `&` character in its URLs. By modifying these concatenators, we can directly access data at these levels. Let's consider the concatenators meaning:"
   ]
  },
  {
   "cell_type": "markdown",
   "id": "7149ac59-50d9-4797-87b9-80aab77a6493",
   "metadata": {},
   "source": [
    "| Concatenator   | Description                                          |\n",
    "|----------------|------------------------------------------------------|\n",
    "| `&_tgt=xls`    | download Excel files                                 |\n",
    "| `&_uhc=yes`    | download accumulated results                         |\n",
    "| `&0=`          | total                                                |\n",
    "| `&1=M`         | local governments                                    |\n",
    "| `&37=M`        | municipalities                                       |\n",
    "| `&5=01`        | UBIGEO for departments (empty for all provinces)     |\n",
    "| `&6=01`        | UBIGEO for provinces (empty for all provinces)       |\n",
    "| `&7=07`        | UBIGEO for districts (empty for all districts)       |\n",
    "| `&y=2023`      | year                                                 |\n",
    "| `&ap=Proyecto` | type of consult (Proyecto, Actividad, ActProy)       |\n",
    "| `&cpage=1`     | number of pages                                      |\n",
    "| `&psize=500`   | number of observations                               |"
   ]
  },
  {
   "cell_type": "markdown",
   "id": "b3082991-b84f-45f4-bcc8-adcee4aeca95",
   "metadata": {},
   "source": [
    "Now let's access to data at provincial level. The default navigator url looks like this: \n",
    "\n",
    "https://apps5.mineco.gob.pe/transparencia/Navegador/default.aspx?y=2023&ap=Proyecto\n",
    "\n",
    "\n",
    "While the navigator url (that can be found at the Sources box) looks like this:\n",
    "\n",
    "\n",
    "https://apps5.mineco.gob.pe/transparencia/Navegador/Navegar_7.aspx?y=2023&ap=Proyecto"
   ]
  },
  {
   "cell_type": "markdown",
   "id": "9ea04e6a-1408-4f14-b962-76facb8ec4a9",
   "metadata": {},
   "source": [
    "We access to the box source for the navigator url at the export url line:\n",
    "\n",
    "```\n",
    "Navegar_7.aspx?_tgt=xls&_uhc=yes&0=&1=M&37=M&5=01&6=&y=2023&ap=Proyecto&cpage=1&psize=400\n",
    "```"
   ]
  },
  {
   "cell_type": "markdown",
   "id": "bf400d78-5534-4d09-bee3-ff67b53254c8",
   "metadata": {},
   "source": [
    "We then can generate the provincial URL by adding the base URL:\n",
    "\n",
    "https://apps5.mineco.gob.pe/transparencia/Navegador/Navegar_7.aspx?_tgt=xls&_uhc=yes&0=&1=M&37=M&5=01&6=&y=2023&ap=Proyecto&cpage=1&psize=400\n",
    "\n",
    "And then modifying the concatenators to our requirements. We quit concatenators for the department level and set empty the concatenator at the provincial level:\n",
    "\n",
    "https://apps5.mineco.gob.pe/transparencia/Navegador/Navegar_7.aspx?0=&1=M&37=M&6=&y=2023&ap=Proyecto&cpage=1&psize=400"
   ]
  },
  {
   "cell_type": "markdown",
   "id": "a5db006f-21fe-4c94-a96c-d42e9df4fc05",
   "metadata": {},
   "source": [
    "We can replicate this process for the distrital level:\n",
    "\n",
    "https://apps5.mineco.gob.pe/transparencia/Navegador/Navegar_7.aspx?0=&1=M&37=M&7=&y=2023&ap=Proyecto&cpage=1&psize=2000"
   ]
  },
  {
   "cell_type": "markdown",
   "id": "f111cfea-f7b3-49c9-a9a2-72a4aa56fef7",
   "metadata": {},
   "source": [
    "Now we can scrape in an efficient way. This time we'll scrape through districts to find their spending functions."
   ]
  },
  {
   "cell_type": "code",
   "execution_count": 58,
   "id": "380a4b41-a2a1-4e2d-9124-b4e3c6f25c9c",
   "metadata": {},
   "outputs": [],
   "source": [
    "path_siaf_districts = path_siaf + '/districts'\n",
    "os.makedirs( path_siaf_districts, exist_ok = True )"
   ]
  },
  {
   "cell_type": "code",
   "execution_count": 59,
   "id": "f45264f7-9465-4a33-b5e3-1ccec6354433",
   "metadata": {},
   "outputs": [],
   "source": [
    "url     = 'https://apps5.mineco.gob.pe/transparencia/Navegador/Navegar_7.aspx?0=&1=M&37=M&7=&y=2023&ap=Proyecto&cpage=1&psize=2000'\n",
    "driver  = webdriver.Chrome()        \n",
    "driver.get( url )\n",
    "driver.maximize_window()"
   ]
  },
  {
   "cell_type": "code",
   "execution_count": 60,
   "id": "57bd61e8-5486-4b16-b203-108ef65455da",
   "metadata": {
    "collapsed": true,
    "jupyter": {
     "outputs_hidden": true
    }
   },
   "outputs": [
    {
     "name": "stdout",
     "output_type": "stream",
     "text": [
      "Extracted:  MUNICIPALIDAD PROVINCIAL DE CHACHAPOYAS\n",
      "Extracted:  MUNICIPALIDAD DISTRITAL DE ASUNCION\n",
      "Extracted:  MUNICIPALIDAD DISTRITAL DE BALSAS\n",
      "Extracted:  MUNICIPALIDAD DISTRITAL DE CHETO\n",
      "Extracted:  MUNICIPALIDAD DISTRITAL DE CHILIQUIN\n"
     ]
    },
    {
     "ename": "KeyboardInterrupt",
     "evalue": "",
     "output_type": "error",
     "traceback": [
      "\u001b[1;31m---------------------------------------------------------------------------\u001b[0m",
      "\u001b[1;31mKeyboardInterrupt\u001b[0m                         Traceback (most recent call last)",
      "Cell \u001b[1;32mIn[60], line 31\u001b[0m\n\u001b[0;32m     28\u001b[0m come_back_button \u001b[38;5;241m=\u001b[39m driver\u001b[38;5;241m.\u001b[39mfind_element( By\u001b[38;5;241m.\u001b[39mXPATH, \u001b[38;5;124m'\u001b[39m\u001b[38;5;124m//*[@id=\u001b[39m\u001b[38;5;124m\"\u001b[39m\u001b[38;5;124mctl00_CPH1_RptHistory_ctl04_TD0\u001b[39m\u001b[38;5;124m\"\u001b[39m\u001b[38;5;124m]\u001b[39m\u001b[38;5;124m'\u001b[39m )\n\u001b[0;32m     29\u001b[0m come_back_button\u001b[38;5;241m.\u001b[39mclick()\n\u001b[1;32m---> 31\u001b[0m time\u001b[38;5;241m.\u001b[39msleep( \u001b[38;5;241m5\u001b[39m )\n",
      "\u001b[1;31mKeyboardInterrupt\u001b[0m: "
     ]
    }
   ],
   "source": [
    "districts_list = driver.find_elements( By.XPATH, \"//tr[contains(@id, 'tr')]\" )\n",
    "\n",
    "for index, district in enumerate(  districts_list[ : 5 ] ):\n",
    "\n",
    "    functions_button = driver.find_element( By.XPATH, '//*[@id=\"ctl00_CPH1_BtnFuncion\"]' )\n",
    "    district_button  = driver.find_elements( By.XPATH, \"//tr[contains(@id, 'tr')]\" )[ index ]\n",
    "    district_name    = district_button.find_element( By.XPATH, './td[2]' ).text.strip().split( ':' )[ 1 ]\n",
    "\n",
    "    district_button.click()    \n",
    "    functions_button.click()\n",
    "\n",
    "    time.sleep( 5 )\n",
    "\n",
    "    table_element    = driver.find_element( By.XPATH, \"//table[@class='Data']\" )\n",
    "    table_html       = table_element.get_attribute( 'outerHTML' )\n",
    "    table_html_io    = StringIO( table_html )\n",
    "    table_df         = pd.read_html( table_html_io )[ 0 ]\n",
    "    table_df.columns = headers\n",
    "    table_df         = table_df.drop( table_df.columns[ 0 ], axis = 1 )\n",
    "\n",
    "    folder_path = os.path.join( path_siaf_districts, district_name )\n",
    "    os.makedirs( folder_path, exist_ok = True )\n",
    "    file_path   = os.path.join( folder_path, f'{ district_name }.xlsx' )\n",
    "    table_df.to_excel( file_path )\n",
    "\n",
    "    print( f'Extracted: { district_name }' )\n",
    "\n",
    "    come_back_button = driver.find_element( By.XPATH, '//*[@id=\"ctl00_CPH1_RptHistory_ctl04_TD0\"]' )\n",
    "    come_back_button.click()\n",
    "\n",
    "    time.sleep( 5 )"
   ]
  },
  {
   "cell_type": "code",
   "execution_count": 61,
   "id": "49da8dae-a2ab-4027-9a97-14140246d4ec",
   "metadata": {},
   "outputs": [],
   "source": [
    "# driver.quit()"
   ]
  },
  {
   "cell_type": "markdown",
   "id": "45512f20-c5ec-4778-8ee9-46df384523b9",
   "metadata": {},
   "source": [
    "## 3.6. Explicit and implicit waits"
   ]
  },
  {
   "cell_type": "markdown",
   "id": "5946a4c2-bbbb-4553-abe9-b0455b913e5d",
   "metadata": {},
   "source": [
    "In Selenium for web scraping, there are two main types of waits: implicit and explicit.\n",
    "\n",
    "1. **Implicit Waits**:\n",
    "   - Set a default wait time for the entire session.\n",
    "   - Selenium waits for a specified time to find an element before giving an error.\n",
    "   - Useful for a general wait time for all elements.\n",
    "\n",
    "2. **Explicit Waits**:\n",
    "   - Set wait conditions for specific elements.\n",
    "   - Selenium waits for certain conditions (like visibility or clickability) to be met.\n",
    "   - Checks for the condition at intervals until it's met or time runs out.\n",
    "   - Ideal for elements that load slowly or need specific conditions to be met.\n"
   ]
  },
  {
   "cell_type": "markdown",
   "id": "652bbfbc-c8c5-4328-8b87-8c6272434271",
   "metadata": {},
   "source": [
    "Below is a table outlining the main methods used for explicit waits in Selenium. For a comprehensive list of all explicit wait methods available in Selenium, please click [here](https://selenium-python.readthedocs.io/waits.html).\r\n"
   ]
  },
  {
   "cell_type": "markdown",
   "id": "6a8e52bc-3c9c-4ae0-a4bf-4f5c3db4172c",
   "metadata": {},
   "source": [
    "| Method                                  | Description |\r\n",
    "|-----------------------------------------|----------------------------------------------------------------------------------------------------------------------------------------------------------------------------------|\r\n",
    "| `presence_of_element_located`           | Waits until an element is present in the page's DOM. Does not guarantee that the element is visible.                                                                              |\r\n",
    "| `visibility_of_element_located`         | Waits until an element is visible on the page, meaning it's not hidden and has a height and width greater than zero.                                                             |\r\n",
    "| `element_to_be_clickable`               | Waits until an element is visible and clickable, which implies the element is visible and enabled for actions like clicks.                                                       |\r\n",
    "| `visibility_of`                         | Waits until an element is visible and has a size greater than zero. Similar to `visibility_of_element_located`, but uses a direct element instead of a location.                  |\r\n",
    "| `presence_of_all_elements_located`      | Waits until all elements matching a specified selector are present in the page's DOM.                                                                                                    |\r\n"
   ]
  },
  {
   "cell_type": "markdown",
   "id": "1e4491ef-c917-460d-926a-65eecfea916d",
   "metadata": {},
   "source": [
    "We are now going to revise our scraper for the SIAF to incorporate explicit waits.\n"
   ]
  },
  {
   "cell_type": "code",
   "execution_count": 62,
   "id": "940f39d7-aba6-4042-a31c-fa67ae348ef1",
   "metadata": {},
   "outputs": [],
   "source": [
    "from selenium.webdriver.common.by import By\n",
    "from selenium.webdriver.support.ui import WebDriverWait\n",
    "from selenium.webdriver.support import expected_conditions as EC\n",
    "import os"
   ]
  },
  {
   "cell_type": "markdown",
   "id": "29a60dda-3cbd-48cc-8d06-1f04349edc51",
   "metadata": {},
   "source": [
    "Next, we are going to incorporate explicit waits into our SIAF scraper. Additionally, we will construct it in the form of a function."
   ]
  },
  {
   "cell_type": "code",
   "execution_count": 65,
   "id": "4bf93b3f-41a7-4594-b57e-f1f548f453fe",
   "metadata": {},
   "outputs": [],
   "source": [
    "def siaf_scraper( year, spending_type, activity_type, path ):\n",
    "\n",
    "    '''\n",
    "    Objective:\n",
    "    \n",
    "        Scrape data from the SIAF (Sistema Integrado de Administración Financiera) \n",
    "        website for a given year, spending type, and activity type. The data is \n",
    "        saved in Excel format.\n",
    "\n",
    "    Input:\n",
    "        year (int)          : The year for which the data is to be scraped. \n",
    "        \n",
    "        spending_type (str) : The category of spending to scrape. Valid options are:\n",
    "                                - 'Categoría Presupuestal'\n",
    "                                - 'Producto o Proyecto'\n",
    "                                - 'Función'\n",
    "                                \n",
    "        activity_type (str) : The type of activity to scrape. Valid options are<:\n",
    "                                - 'Actividades'\n",
    "                                - 'Proyectos'\n",
    "                                - 'Actividades y proyectos'\n",
    "        \n",
    "        path (str)          : The file path where the scraped data will be saved.\n",
    "\n",
    "    Output:\n",
    "    \n",
    "        The function saves the scraped data into an Excel file for each entity within \n",
    "        the specified year and spending type. The files are saved in the directory \n",
    "        specified by the 'path' argument. The function also prints and logs any errors \n",
    "        encountered during scraping in a .txt file.\n",
    "    '''\n",
    "\n",
    "    activity_mappings = {\n",
    "                'Actividades'            : 'Actividad',\n",
    "                'Proyectos'              : 'Proyecto',\n",
    "                'Actividades y proyectos': 'ActProy'\n",
    "    }\n",
    "\n",
    "    activity_type = activity_mappings.get( activity_type )\n",
    "\n",
    "    url = f'https://apps5.mineco.gob.pe/transparencia/Navegador/Navegar_7.aspx?0=&1=M&37=M&7=&y={ year }&ap={ activity_type }&cpage=1&psize=2000'\n",
    "    \n",
    "    driver = webdriver.Chrome()        \n",
    "    driver.get( url )\n",
    "    driver.maximize_window()\n",
    "    wait = WebDriverWait(driver, 10)\n",
    "\n",
    "    xpath_mappings = {\n",
    "                'Categoría Presupuestal': '//*[@id=\"ctl00_CPH1_BtnProgramaPpto\"]',\n",
    "                'Producto o Proyecto'   : '//*[@id=\"ctl00_CPH1_BtnProdProy\"]',\n",
    "                'Función'               : '//*[@id=\"ctl00_CPH1_BtnFuncion\"]'    \n",
    "                }\n",
    "\n",
    "    xpath = xpath_mappings.get( spending_type )\n",
    "\n",
    "    os.makedirs( path, exist_ok = True )    \n",
    "    path_txt = os.path.join( path, f'{ year }_{ spending_type }_records.txt' )\n",
    "\n",
    "    with open(path_txt, 'w') as f:\n",
    "        \n",
    "        n_iterations = driver.find_elements( By.XPATH, \"//tr[contains(@id, 'tr')]\" )\n",
    "        \n",
    "        for index, district in enumerate( n_iterations ):\n",
    "            \n",
    "            try:\n",
    "                entities_list     = wait.until( EC.presence_of_all_elements_located( ( By.XPATH, \"//tr[contains(@id, 'tr')]\" ) ) )\n",
    "                entity_button     = entities_list[ index ]\n",
    "                full_entity_name  = entity_button.find_element( By.XPATH, './td[2]' ).text.strip()\n",
    "                short_entity_name = entity_button.find_element( By.XPATH, './td[2]' ).text.strip().split( ':' )[ 1 ]\n",
    "                entity_button.click()\n",
    "                \n",
    "                spending_type_button = wait.until( EC.element_to_be_clickable( ( By.XPATH, xpath ) ) )\n",
    "                spending_type_button.click()\n",
    "                \n",
    "                headers_elements_r0 = wait.until( EC.presence_of_element_located( ( By.XPATH, '//*[@id=\"ctl00_CPH1_Mt0_Row0\"]' ) ) ).find_elements( By.TAG_NAME, 'td' )\n",
    "                headers_elements_r1 = wait.until( EC.presence_of_element_located( ( By.XPATH, '//*[@id=\"ctl00_CPH1_Mt0_Row1\"]' ) ) ).find_elements( By.TAG_NAME, 'td' )\n",
    "                headers_r0          = [ element.text for element in headers_elements_r0 if element.text not in [ 'Ejecución', 'Avance % ' ] ]\n",
    "                headers_r1          = [ element.text for element in headers_elements_r1 ]\n",
    "                headers             = headers_r0 + headers_r1 + [ 'Avance %', 'Municipalidad', 'year', 'tipo_actividad' ]\n",
    "        \n",
    "                table_element          = wait.until( EC.element_to_be_clickable( ( By.XPATH, \"//table[@class='Data']\" ) ) )\n",
    "                table_html             = table_element.get_attribute( 'outerHTML' )\n",
    "                table_html_io          = StringIO( table_html )\n",
    "                df                     = pd.read_html( table_html_io )[ 0 ]\n",
    "                df[ 'Municipalidad' ]  = full_entity_name\n",
    "                df[ 'year' ]           = year\n",
    "                df[ 'tipo_actividad' ] = activity_type\n",
    "                df.columns             = headers\n",
    "                df                     = df.drop( df.columns[ 0 ], axis = 1 )\n",
    "                df                     = df[ df.columns[ -3 : ].to_list() + df.columns[: -3 ].to_list() ]\n",
    "\n",
    "        \n",
    "        \n",
    "                folder_path = os.path.join( f'{ path }', f'{ year }_{ spending_type }' )\n",
    "                os.makedirs( folder_path, exist_ok = True )\n",
    "                file_path   = os.path.join( folder_path, f'{ year }_{ short_entity_name }.xlsx' )\n",
    "                df.to_excel( file_path, index = False )\n",
    "\n",
    "                print(f'Extracted: { short_entity_name }\\n' )\n",
    "                f.write(f'Extracted: { short_entity_name }\\n' )\n",
    "\n",
    "                come_back_button = wait.until( EC.element_to_be_clickable( ( By.XPATH, '//*[@id=\"ctl00_CPH1_RptHistory_ctl04_TD0\"]' ) ) )\n",
    "                come_back_button.click()\n",
    "\n",
    "            except Exception as e:\n",
    "                \n",
    "                print( f'Error at index { index }: { e }\\n' )\n",
    "                f.write( f'Error at index: { index }: { e }\\n' )\n",
    "                continue\n",
    "\n",
    "    driver.quit()"
   ]
  },
  {
   "cell_type": "markdown",
   "id": "f76d1ee3-a238-4396-90be-8d23b27ce9eb",
   "metadata": {},
   "source": [
    "Now, we can use our function by specifying the necessary parameters."
   ]
  },
  {
   "cell_type": "code",
   "execution_count": 66,
   "id": "193f0a81-17d4-4507-bd85-8f00e9275d3e",
   "metadata": {},
   "outputs": [],
   "source": [
    "path_siaf_complete = path_siaf + '/complete'\n",
    "os.makedirs( path_siaf_complete, exist_ok = True )"
   ]
  },
  {
   "cell_type": "code",
   "execution_count": 67,
   "id": "febf8b7f-5b19-4570-87fc-29770dff39ed",
   "metadata": {
    "collapsed": true,
    "jupyter": {
     "outputs_hidden": true
    }
   },
   "outputs": [
    {
     "name": "stdout",
     "output_type": "stream",
     "text": [
      "Extracted:  MUNICIPALIDAD PROVINCIAL DE CHACHAPOYAS\n",
      "\n",
      "Extracted:  MUNICIPALIDAD DISTRITAL DE ASUNCION\n",
      "\n",
      "Extracted:  MUNICIPALIDAD DISTRITAL DE BALSAS\n",
      "\n",
      "Extracted:  MUNICIPALIDAD DISTRITAL DE CHETO\n",
      "\n",
      "Extracted:  MUNICIPALIDAD DISTRITAL DE CHILIQUIN\n",
      "\n",
      "Extracted:  MUNICIPALIDAD DISTRITAL DE CHUQUIBAMBA\n",
      "\n",
      "Extracted:  MUNICIPALIDAD DISTRITAL DE GRANADA\n",
      "\n",
      "Extracted:  MUNICIPALIDAD DISTRITAL DE HUANCAS\n",
      "\n",
      "Extracted:  MUNICIPALIDAD DISTRITAL DE LA JALCA\n",
      "\n"
     ]
    },
    {
     "name": "stderr",
     "output_type": "stream",
     "text": [
      "\n",
      "KeyboardInterrupt\n",
      "\n"
     ]
    }
   ],
   "source": [
    "year          = '2020'\n",
    "spending_type = 'Función'\n",
    "activity_type = 'Actividades y proyectos'\n",
    "path          =  path_siaf_complete\n",
    "\n",
    "siaf_scraper( year, spending_type, activity_type, path )"
   ]
  },
  {
   "cell_type": "code",
   "execution_count": 68,
   "id": "dd7eb556-c6ed-466c-9036-f8461fbe5255",
   "metadata": {},
   "outputs": [],
   "source": [
    "driver.quit()"
   ]
  },
  {
   "cell_type": "markdown",
   "id": "54d620b1-106c-44b6-8449-812c35d51c2b",
   "metadata": {},
   "source": [
    "Also, we can iterate through the years to access the information"
   ]
  },
  {
   "cell_type": "code",
   "execution_count": 173,
   "id": "7f8ba8c8-49c5-472a-ba82-91bd9dc38296",
   "metadata": {},
   "outputs": [],
   "source": [
    "years_list = np.arange( 2015, 2021, 1 )\n",
    "\n",
    "for year in years_list:\n",
    "    \n",
    "    spending_type = 'Función'\n",
    "    activity_type = 'Actividades y proyectos'\n",
    "    path          = path_siaf_complete   \n",
    "    siaf_scraper( year, spending_type, activity_type, path )"
   ]
  }
 ],
 "metadata": {
  "kernelspec": {
   "display_name": "Python 3 (ipykernel)",
   "language": "python",
   "name": "python3"
  },
  "language_info": {
   "codemirror_mode": {
    "name": "ipython",
    "version": 3
   },
   "file_extension": ".py",
   "mimetype": "text/x-python",
   "name": "python",
   "nbconvert_exporter": "python",
   "pygments_lexer": "ipython3",
   "version": "3.11.5"
  }
 },
 "nbformat": 4,
 "nbformat_minor": 5
}
