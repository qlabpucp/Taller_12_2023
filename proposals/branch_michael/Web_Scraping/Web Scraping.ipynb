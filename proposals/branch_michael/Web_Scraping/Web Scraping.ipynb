{
 "cells": [
  {
   "cell_type": "markdown",
   "id": "4effcb1d-21bb-43cf-b5d5-0b3203edb8e6",
   "metadata": {},
   "source": [
    "# 1. Encuesta Nacional de Hogares ENAHO 2004 - 2022"
   ]
  },
  {
   "cell_type": "markdown",
   "id": "26f0992e-4177-4ee2-aa73-99d58a4360a1",
   "metadata": {},
   "source": [
    "Encuesta sobre las condiciones de vida, gastos e ingresos de los hogares."
   ]
  },
  {
   "cell_type": "markdown",
   "id": "6c9cfbcf-94a4-4d28-9bca-23b194da6ebd",
   "metadata": {},
   "source": [
    "La Encuesta Nacional de Hogares se inicia en el año 1995, es a partir del año 2003 que se realiza de forma continua, en el área urbana y rural de todo el país y se obtiene información anual con desagregación departamental. Mensualmente se visitan aproximadamente 3,070 viviendas seleccionadas por un método aleatorio; tiene un componente panel de 30% de la muestra.\r\n",
    "Es una actividad estadística continua, que permite obtener información actualizada sobre las condiciones de vida, gastos e ingresos de los hogares, y fundamentalmente conocer la evolución de los niveles de pobreza monetaria en el paísccuracy and relevance.\r\n"
   ]
  },
  {
   "cell_type": "markdown",
   "id": "ede04811-bb8b-4eee-81dd-a3a5fd4541bd",
   "metadata": {},
   "source": [
    "The web scraping process encompasses the following steps:"
   ]
  },
  {
   "cell_type": "markdown",
   "id": "42fb0527-86c1-41c7-98da-4373e6df017f",
   "metadata": {},
   "source": [
    "| Caracteristica | Descripcion |\n",
    "|------|-------------|\n",
    "| 1. Tamaño de la muestra | 21919, correspondiendo 12451 viviendas al área urbana y 9468 viviendas al área rural. |\n",
    "| 2. Apurímac  | 582 viviendas. |\n",
    "| 3. Niveles de inferencia |Nacional según 24 departamentos, cada uno como dominio de estudio. |\n",
    "| 4. Cantidad de modulos | 49 |\n",
    "| 5. Modulo de opinion | Códigos de modulo: 84 y 85. |\n",
    "| 6. Gobernabilidad | Variable: Evaluación de los servicios públicos |\n",
    "| 7. Democracia| Variable: Grado de discriminación |\n"
   ]
  },
  {
   "cell_type": "markdown",
   "id": "b43f5b55-33df-4e0a-b05a-b2b68e72a406",
   "metadata": {},
   "source": [
    "# 2. Pasos parapreparación de datos"
   ]
  },
  {
   "cell_type": "markdown",
   "id": "ca65a095-29d6-474e-b36e-cc3cb3a7f49f",
   "metadata": {},
   "source": [
    "1. **Paso 1:** Descargar archivos CVS de portal INEI del año 2004 hasta 2011.\n",
    "   \r",
    "32. **Paso 2:** Extraer datos de ZIPr\n",
    "   .5\n",
    "3. **Paso 3:*  Realizar filtración de variables y merge para juntar las bases de datosa\n",
    "   a7).\r\n",
    "4. **Paso    Graficar los valoreslcesario.\r\n"
   ]
  },
  {
   "cell_type": "markdown",
   "id": "7b5a3e92-92da-46e1-b6d0-aafdccff2bfa",
   "metadata": {},
   "source": [
    "# 3. Web scraping"
   ]
  },
  {
   "cell_type": "markdown",
   "id": "87523418-1c79-474e-a5d5-4f15a2e6188a",
   "metadata": {},
   "source": [
    "### Directorio de trabajo"
   ]
  },
  {
   "cell_type": "code",
   "execution_count": 7,
   "id": "408fce8b-2fc3-4d3d-a740-aea8f6c0bf7f",
   "metadata": {},
   "outputs": [],
   "source": [
    "# Usar barras inclinadas\n",
    "ruta = 'Users/Michael Encalada/Documents/GitHub/QLAB/Taller_12_2023/proposals/Web_Scraping'"
   ]
  },
  {
   "cell_type": "markdown",
   "id": "46045ca3-aeb3-448e-a65e-dd92bed97456",
   "metadata": {},
   "source": [
    "# 3.1. Getting started with Selenium"
   ]
  },
  {
   "cell_type": "markdown",
   "id": "f0b72715-cbb1-4d8d-bf0f-c34bffe2685e",
   "metadata": {},
   "source": [
    "To begin working with Selenium, it is essential to install the required libraries. To prevent conflicts with other libraries, it's advisable to create a new environment when working on a project. In Anaconda Prompt, execute the following commands to create and activate a new environment named \"wb\":\n",
    "\n",
    "```bash\n",
    "conda create -n wb\n",
    "conda activate wb\n",
    "```"
   ]
  },
  {
   "cell_type": "markdown",
   "id": "1e367ce3-a463-4108-b6cf-29bfaf5e09dd",
   "metadata": {},
   "source": [
    "Then we can install the required libraries by running the following commands: selenium\n"
   ]
  },
  {
   "cell_type": "code",
   "execution_count": 1,
   "id": "fa670607-89dc-4bce-9f27-2bb3c48baca1",
   "metadata": {},
   "outputs": [],
   "source": [
    "# !pip install openpyxl\n",
    "# !pip install pandas\n",
    "# !pip install numpy"
   ]
  },
  {
   "cell_type": "code",
   "execution_count": null,
   "id": "b569ffac-24d0-4990-97e7-ce6eb882fdee",
   "metadata": {},
   "outputs": [],
   "source": [
    "# # Install Selenium\n",
    "# !pip install selenium\n",
    "\n",
    "# # Install Webdriver Manager\n",
    "# !pip install webdriver-manager\n",
    "\n",
    "# # Check Selenium version\n",
    "# import selenium\n",
    "# selenium.__version__"
   ]
  },
  {
   "cell_type": "code",
   "execution_count": null,
   "id": "37fbf11e-6019-4f54-b1ec-e4161940e63c",
   "metadata": {},
   "outputs": [],
   "source": [
    "# # Optionally, update Selenium to the latest version\n",
    "# !pip install -U selenium"
   ]
  },
  {
   "cell_type": "markdown",
   "id": "b9171e89-0141-456e-a24f-618a94648965",
   "metadata": {},
   "source": [
    "# 3.2. Web driver"
   ]
  },
  {
   "cell_type": "markdown",
   "id": "490f4472-b7de-4e0c-a14a-8d2e7a37cc3c",
   "metadata": {},
   "source": [
    "A Web Driver serves as a bridge between the code and the browser, enabling automation of actions such as clicking buttons, filling out forms, and extracting information. Initializing the Web Driver in Python involves creating an instance of the WebDriver for the desired browser, such as Chrome or Firefox, and then using methods to facilitate navigation and manipulation of elements on the web page."
   ]
  },
  {
   "cell_type": "code",
   "execution_count": 1,
   "id": "ba29d754-9e91-4f4b-b627-7a9be2c3bee8",
   "metadata": {
    "tags": []
   },
   "outputs": [],
   "source": [
    "from selenium import webdriver\n",
    "from webdriver_manager.chrome import ChromeDriverManager"
   ]
  },
  {
   "cell_type": "code",
   "execution_count": 2,
   "id": "0214568a-3f73-4581-a908-0e592f9ba041",
   "metadata": {
    "tags": []
   },
   "outputs": [],
   "source": [
    "url     = 'https://proyectos.inei.gob.pe/microdatos/'\n",
    "driver  = webdriver.Chrome()        \n",
    "driver.get( url )"
   ]
  },
  {
   "cell_type": "markdown",
   "id": "d43aab75-6595-45ca-bd36-c826340ffce7",
   "metadata": {},
   "source": [
    "We can maximize de window. Maximizing the window is particularly important because some web elements might only be visible or interactable when the browser is in a full-screen state."
   ]
  },
  {
   "cell_type": "code",
   "execution_count": 3,
   "id": "4ed922a3-2a8e-40b1-9441-1108804f3d3a",
   "metadata": {},
   "outputs": [],
   "source": [
    "driver.maximize_window()"
   ]
  },
  {
   "cell_type": "code",
   "execution_count": 3,
   "id": "3d842642-42c3-484e-9051-7d25f1b607cc",
   "metadata": {},
   "outputs": [],
   "source": [
    "# driver.quit()"
   ]
  },
  {
   "cell_type": "markdown",
   "id": "9c9f87c4-a49b-4670-a872-2d0ba2b45678",
   "metadata": {},
   "source": [
    "# 3.3. First operations"
   ]
  },
  {
   "cell_type": "markdown",
   "id": "2973512d-3284-4409-88d0-02bed9b4bdae",
   "metadata": {},
   "source": [
    "We can obtain and store the web page title:"
   ]
  },
  {
   "cell_type": "code",
   "execution_count": 4,
   "id": "a04da740-8af2-4bb8-af4c-41310c7c05aa",
   "metadata": {},
   "outputs": [
    {
     "data": {
      "text/plain": [
       "'PERÚ Instituto Nacional de Estadística e Informática'"
      ]
     },
     "execution_count": 4,
     "metadata": {},
     "output_type": "execute_result"
    }
   ],
   "source": [
    "driver.title"
   ]
  },
  {
   "cell_type": "markdown",
   "id": "1dabc16f-399f-46dc-bf10-912e27adc06f",
   "metadata": {},
   "source": [
    "As well as the current url"
   ]
  },
  {
   "cell_type": "code",
   "execution_count": 5,
   "id": "67a9d68a-87d4-43f7-9916-76eb76772902",
   "metadata": {},
   "outputs": [
    {
     "data": {
      "text/plain": [
       "'https://proyectos.inei.gob.pe/microdatos/'"
      ]
     },
     "execution_count": 5,
     "metadata": {},
     "output_type": "execute_result"
    }
   ],
   "source": [
    "driver.current_url"
   ]
  },
  {
   "cell_type": "markdown",
   "id": "0584699e-c4b2-478e-8527-ba30bf290c97",
   "metadata": {},
   "source": [
    "We can also accesss the elements for headless mode"
   ]
  },
  {
   "cell_type": "markdown",
   "id": "4d27af4e-d9c3-452f-a5b4-2be54ef4f55e",
   "metadata": {},
   "source": [
    "## 3.4. Location methods"
   ]
  },
  {
   "cell_type": "markdown",
   "id": "9c7718a2-d9bc-4c6a-9f7c-c73792e6b088",
   "metadata": {},
   "source": [
    "In Selenium, location methods are used to find elements on a web page. These methods allow you to select elements based on their HTML attributes, such as ID, name, XPath, tag name, class name, or CSS selector. Using the right locator ensures that your automation script interacts with the correct elements on the page."
   ]
  },
  {
   "cell_type": "markdown",
   "id": "640f9884-ddd8-40df-8d44-352048f8db29",
   "metadata": {},
   "source": [
    "|Method|Description|\n",
    "|---|---|\n",
    "|find_element( By.XPATH, \"xpath\" ) | Used for finding an element by its Xpath|\n",
    "|find_element( By.ID, \"id\" ) | Used for finding an element by its id|\n",
    "|find_element( By.NAME, \"name\" ) | Used for finding an element by its name attribute|\n",
    "|find_element( By.TAG_NAME, \"tag name\" ) | Used for finding an element by its HTML tag|\n",
    "|find_element( By.CLASS_NAME, \"class name\" ) | Used for finding an element by its class name|\n",
    "|find_element( By.CSS_SELECTOR, \"css selector\" )| Used for finding an element by its CSS selector|"
   ]
  },
  {
   "cell_type": "markdown",
   "id": "5907cf86-efdd-4971-8491-02f058cec7bf",
   "metadata": {},
   "source": [
    "We will try Location methods in the Congressional Bills Page"
   ]
  },
  {
   "cell_type": "code",
   "execution_count": 13,
   "id": "54841a09-0d23-4494-8993-fac3138eb145",
   "metadata": {},
   "outputs": [],
   "source": [
    "import pandas as pd\n",
    "import numpy as np\n",
    "from selenium.webdriver.common.by import By\n",
    "from io import StringIO\n",
    "import os\n",
    "import time\n",
    "import requests"
   ]
  },
  {
   "cell_type": "code",
   "execution_count": 24,
   "id": "637c3576-9e89-42ac-9a46-cc4d1ca678c0",
   "metadata": {},
   "outputs": [],
   "source": [
    "url     = 'https://proyectos.inei.gob.pe/microdatos/'\n",
    "driver  = webdriver.Chrome()        \n",
    "driver.get( url )\n",
    "driver.maximize_window()"
   ]
  },
  {
   "cell_type": "markdown",
   "id": "e6ca1676-63a6-4ecc-890a-1c37578e7ee1",
   "metadata": {},
   "source": [
    "## Pruebas fallidas\n",
    "\n",
    "consulta_encuestas = driver.find_element( By.XPATH, '/html/body/div[1]/div[2]/div/div/div[2]/ul/li[1]/a' )\n",
    "consulta_encuestas.click()\n",
    "\n",
    "time.sleep( 2 )\n",
    "\n",
    "eleccion_enaho = driver.find_element( By.XPATH, '/html/body/div[2]/div/div/div[4]/div/form[1]/div[4]/div/span/span[1]/span/span[2]')\n",
    "eleccion_enaho.click()\n",
    "\n",
    "time.sleep (2)\n",
    "\n",
    "enaho_actualizada = driver.find_element( By.XPATH, '/html/body/span/span/span[2]/ul/li[3]')\n",
    "enaho_actualizada.click()\n",
    "\n",
    "time.sleep (2)\n",
    "\n",
    "no_panel_seleccion = driver.find_element( By.XPATH, '/html/body/div[2]/div/div/div[4]/div/form[1]/div[5]/div[2]/select')\n",
    "no_panel_seleccion.click()\n",
    "\n",
    "time.sleep (2)\n",
    "\n",
    "no_panel  = driver.find_element( By.XPATH, '/html/body/div[2]/div/div/div[4]/div/form[1]/div[5]/div[2]/select/option[2]')\n",
    "no_panel.click()\n",
    "\n",
    "time.sleep (2)\n",
    "\n",
    "anio_seleccion = driver.find_element( By.XPATH, '/html/body/div[2]/div/div/div[4]/div/form[1]/div[5]/div[4]/div[2]/div/select')\n",
    "anio_seleccion.click()\n",
    "\n",
    "anio_seleccion = driver.find_element( By.XPATH, '/html/body/div[2]/div/div/div[4]/div/form[1]/div[5]/div[4]/div[2]/div/select')\n",
    "anio_seleccion.click()\n",
    "\n",
    "time.sleep (2)"
   ]
  },
  {
   "cell_type": "markdown",
   "id": "179ac1ca-81f2-42ca-9712-14dbe0ffd4b3",
   "metadata": {},
   "source": [
    "anio_2004 = driver.find_element( By.XPATH, '/html/body/div[2]/div/div/div[4]/div/form[1]/div[5]/div[4]/div[2]/div/select/option[2]')\n",
    " opcion cambia: 2004 = 2 y 2023 = 21\n",
    "anio_2004.click ()\n",
    "\n",
    "time.sleep (2)\n",
    "\n",
    "periodo_select = driver.find_element( By.XPATH, '/html/body/div[2]/div/div/div[4]/div/form[1]/div[5]/div[4]/div[4]/div/select')\n",
    "periodo_select.click ()\n",
    "\n",
    "time.sleep (2)\n",
    "\n",
    "periodo_anual = driver.find_element( By.XPATH, '/html/body/div[2]/div/div/div[4]/div/form[1]/div[5]/div[4]/div[4]/div/select/option[2]')\n",
    "periodo_anual.click ()\n",
    "time.sleep (2)"
   ]
  },
  {
   "cell_type": "code",
   "execution_count": 27,
   "id": "a2674672-cfe5-44ce-99c3-67507d991e99",
   "metadata": {},
   "outputs": [],
   "source": [
    "#tabla_completo = driver.find_element( By.XPATH, '/html/body/div[2]/div/div/div[4]/div/form[1]/div[6]/div/table/tbody/tr/td/table')\n",
    "#tabla_completo.click()\n",
    "\n",
    "#time.sleep (2)\n",
    "\n",
    "#modulo_1 = driver.find_element( By.XPATH, '/html/body/div[2]/div/div/div[4]/div/form[1]/div[6]/div/table/tbody/tr/td/table/tbody/tr[2]/td[10]/a')\n",
    "#modulo_1.click()\n",
    "\n",
    "#modulo_85 = driver.find_element( By.XPATH, '/html/body/div[2]/div/div/div[4]/div/form[1]/div[6]/div/table/tbody/tr/td/table/tbody/tr[30]/td[10]/a')\n",
    "#modulo_85.click()"
   ]
  },
  {
   "cell_type": "markdown",
   "id": "94c5147f-22f5-48b2-a7f4-cc3fe82ac946",
   "metadata": {},
   "source": [
    "## Procedimiento correcto \n",
    "\n",
    "Un proceso de web scraping para extraer datos"
   ]
  },
  {
   "cell_type": "code",
   "execution_count": 35,
   "id": "07ef594d-b646-40a8-a5d6-8a74310e9046",
   "metadata": {},
   "outputs": [
    {
     "name": "stdout",
     "output_type": "stream",
     "text": [
      "Nombres de archivos para el año 2004:\n",
      "280-Modulo85_2004.zip\n",
      "Nombres de archivos para el año 2005:\n",
      "280-Modulo85_2004.zip\n",
      "280-Modulo85_2005.zip\n",
      "Nombres de archivos para el año 2006:\n",
      "280-Modulo85_2004.zip\n",
      "280-Modulo85_2005.zip\n",
      "280-Modulo85_2006.zip\n",
      "Nombres de archivos para el año 2007:\n",
      "280-Modulo85_2004.zip\n",
      "280-Modulo85_2005.zip\n",
      "280-Modulo85_2006.zip\n",
      "280-Modulo85_2007.zip\n",
      "Nombres de archivos para el año 2008:\n",
      "280-Modulo85_2004.zip\n",
      "280-Modulo85_2005.zip\n",
      "280-Modulo85_2006.zip\n",
      "280-Modulo85_2007.zip\n",
      "280-Modulo85_2008.zip\n",
      "Nombres de archivos para el año 2009:\n",
      "280-Modulo85_2004.zip\n",
      "280-Modulo85_2005.zip\n",
      "280-Modulo85_2006.zip\n",
      "280-Modulo85_2007.zip\n",
      "280-Modulo85_2008.zip\n",
      "280-Modulo85_2009.zip\n",
      "Nombres de archivos para el año 2010:\n",
      "280-Modulo85_2004.zip\n",
      "280-Modulo85_2005.zip\n",
      "280-Modulo85_2006.zip\n",
      "280-Modulo85_2007.zip\n",
      "280-Modulo85_2008.zip\n",
      "280-Modulo85_2009.zip\n",
      "280-Modulo85_2010.zip\n",
      "Nombres de archivos para el año 2011:\n",
      "280-Modulo85_2004.zip\n",
      "280-Modulo85_2005.zip\n",
      "280-Modulo85_2006.zip\n",
      "280-Modulo85_2007.zip\n",
      "280-Modulo85_2008.zip\n",
      "280-Modulo85_2009.zip\n",
      "280-Modulo85_2010.zip\n",
      "280-Modulo85_2011.zip\n",
      "Nombres de archivos para el año 2012:\n",
      "280-Modulo85_2004.zip\n",
      "280-Modulo85_2005.zip\n",
      "280-Modulo85_2006.zip\n",
      "280-Modulo85_2007.zip\n",
      "280-Modulo85_2008.zip\n",
      "280-Modulo85_2009.zip\n",
      "280-Modulo85_2010.zip\n",
      "280-Modulo85_2011.zip\n",
      "280-Modulo85_2012.zip\n",
      "Nombres de archivos para el año 2013:\n",
      "280-Modulo85_2004.zip\n",
      "280-Modulo85_2005.zip\n",
      "280-Modulo85_2006.zip\n",
      "280-Modulo85_2007.zip\n",
      "280-Modulo85_2008.zip\n",
      "280-Modulo85_2009.zip\n",
      "280-Modulo85_2010.zip\n",
      "280-Modulo85_2011.zip\n",
      "280-Modulo85_2012.zip\n",
      "280-Modulo85_2013.zip\n",
      "Nombres de archivos para el año 2014:\n",
      "280-Modulo85_2004.zip\n",
      "280-Modulo85_2005.zip\n",
      "280-Modulo85_2006.zip\n",
      "280-Modulo85_2007.zip\n",
      "280-Modulo85_2008.zip\n",
      "280-Modulo85_2009.zip\n",
      "280-Modulo85_2010.zip\n",
      "280-Modulo85_2011.zip\n",
      "280-Modulo85_2012.zip\n",
      "280-Modulo85_2013.zip\n",
      "280-Modulo85_2014.zip\n",
      "Nombres de archivos para el año 2015:\n",
      "280-Modulo85_2004.zip\n",
      "280-Modulo85_2005.zip\n",
      "280-Modulo85_2006.zip\n",
      "280-Modulo85_2007.zip\n",
      "280-Modulo85_2008.zip\n",
      "280-Modulo85_2009.zip\n",
      "280-Modulo85_2010.zip\n",
      "280-Modulo85_2011.zip\n",
      "280-Modulo85_2012.zip\n",
      "280-Modulo85_2013.zip\n",
      "280-Modulo85_2014.zip\n",
      "280-Modulo85_2015.zip\n",
      "Nombres de archivos para el año 2016:\n",
      "280-Modulo85_2004.zip\n",
      "280-Modulo85_2005.zip\n",
      "280-Modulo85_2006.zip\n",
      "280-Modulo85_2007.zip\n",
      "280-Modulo85_2008.zip\n",
      "280-Modulo85_2009.zip\n",
      "280-Modulo85_2010.zip\n",
      "280-Modulo85_2011.zip\n",
      "280-Modulo85_2012.zip\n",
      "280-Modulo85_2013.zip\n",
      "280-Modulo85_2014.zip\n",
      "280-Modulo85_2015.zip\n",
      "280-Modulo85_2016.zip\n",
      "Nombres de archivos para el año 2017:\n",
      "280-Modulo85_2004.zip\n",
      "280-Modulo85_2005.zip\n",
      "280-Modulo85_2006.zip\n",
      "280-Modulo85_2007.zip\n",
      "280-Modulo85_2008.zip\n",
      "280-Modulo85_2009.zip\n",
      "280-Modulo85_2010.zip\n",
      "280-Modulo85_2011.zip\n",
      "280-Modulo85_2012.zip\n",
      "280-Modulo85_2013.zip\n",
      "280-Modulo85_2014.zip\n",
      "280-Modulo85_2015.zip\n",
      "280-Modulo85_2016.zip\n",
      "280-Modulo85_2017.zip\n",
      "Nombres de archivos para el año 2018:\n",
      "280-Modulo85_2004.zip\n",
      "280-Modulo85_2005.zip\n",
      "280-Modulo85_2006.zip\n",
      "280-Modulo85_2007.zip\n",
      "280-Modulo85_2008.zip\n",
      "280-Modulo85_2009.zip\n",
      "280-Modulo85_2010.zip\n",
      "280-Modulo85_2011.zip\n",
      "280-Modulo85_2012.zip\n",
      "280-Modulo85_2013.zip\n",
      "280-Modulo85_2014.zip\n",
      "280-Modulo85_2015.zip\n",
      "280-Modulo85_2016.zip\n",
      "280-Modulo85_2017.zip\n",
      "280-Modulo85_2018.zip\n",
      "Nombres de archivos para el año 2019:\n",
      "280-Modulo85_2004.zip\n",
      "280-Modulo85_2005.zip\n",
      "280-Modulo85_2006.zip\n",
      "280-Modulo85_2007.zip\n",
      "280-Modulo85_2008.zip\n",
      "280-Modulo85_2009.zip\n",
      "280-Modulo85_2010.zip\n",
      "280-Modulo85_2011.zip\n",
      "280-Modulo85_2012.zip\n",
      "280-Modulo85_2013.zip\n",
      "280-Modulo85_2014.zip\n",
      "280-Modulo85_2015.zip\n",
      "280-Modulo85_2016.zip\n",
      "280-Modulo85_2017.zip\n",
      "280-Modulo85_2018.zip\n",
      "280-Modulo85_2019.zip\n",
      "Nombres de archivos para el año 2020:\n",
      "280-Modulo85_2004.zip\n",
      "280-Modulo85_2005.zip\n",
      "280-Modulo85_2006.zip\n",
      "280-Modulo85_2007.zip\n",
      "280-Modulo85_2008.zip\n",
      "280-Modulo85_2009.zip\n",
      "280-Modulo85_2010.zip\n",
      "280-Modulo85_2011.zip\n",
      "280-Modulo85_2012.zip\n",
      "280-Modulo85_2013.zip\n",
      "280-Modulo85_2014.zip\n",
      "280-Modulo85_2015.zip\n",
      "280-Modulo85_2016.zip\n",
      "280-Modulo85_2017.zip\n",
      "280-Modulo85_2018.zip\n",
      "280-Modulo85_2019.zip\n",
      "280-Modulo85_2020.zip\n",
      "Nombres de archivos para el año 2021:\n",
      "280-Modulo85_2004.zip\n",
      "280-Modulo85_2005.zip\n",
      "280-Modulo85_2006.zip\n",
      "280-Modulo85_2007.zip\n",
      "280-Modulo85_2008.zip\n",
      "280-Modulo85_2009.zip\n",
      "280-Modulo85_2010.zip\n",
      "280-Modulo85_2011.zip\n",
      "280-Modulo85_2012.zip\n",
      "280-Modulo85_2013.zip\n",
      "280-Modulo85_2014.zip\n",
      "280-Modulo85_2015.zip\n",
      "280-Modulo85_2016.zip\n",
      "280-Modulo85_2017.zip\n",
      "280-Modulo85_2018.zip\n",
      "280-Modulo85_2019.zip\n",
      "280-Modulo85_2020.zip\n",
      "280-Modulo85_2021.zip\n",
      "Nombres de archivos para el año 2022:\n",
      "280-Modulo85_2004.zip\n",
      "280-Modulo85_2005.zip\n",
      "280-Modulo85_2006.zip\n",
      "280-Modulo85_2007.zip\n",
      "280-Modulo85_2008.zip\n",
      "280-Modulo85_2009.zip\n",
      "280-Modulo85_2010.zip\n",
      "280-Modulo85_2011.zip\n",
      "280-Modulo85_2012.zip\n",
      "280-Modulo85_2013.zip\n",
      "280-Modulo85_2014.zip\n",
      "280-Modulo85_2015.zip\n",
      "280-Modulo85_2016.zip\n",
      "280-Modulo85_2017.zip\n",
      "280-Modulo85_2018.zip\n",
      "280-Modulo85_2019.zip\n",
      "280-Modulo85_2020.zip\n",
      "280-Modulo85_2021.zip\n",
      "280-Modulo85_2022.zip\n"
     ]
    },
    {
     "ename": "NoSuchElementException",
     "evalue": "Message: no such element: Unable to locate element: {\"method\":\"xpath\",\"selector\":\"/html/body/div[2]/div/div/div[4]/div/form[1]/div[6]/div/table/tbody/tr/td/table/tbody/tr[30]/td[10]/a\"}\n  (Session info: chrome=120.0.6099.217); For documentation on this error, please visit: https://www.selenium.dev/documentation/webdriver/troubleshooting/errors#no-such-element-exception\nStacktrace:\n\tGetHandleVerifier [0x00007FF7B02C2142+3514994]\n\t(No symbol) [0x00007FF7AFEE0CE2]\n\t(No symbol) [0x00007FF7AFD876AA]\n\t(No symbol) [0x00007FF7AFDD1860]\n\t(No symbol) [0x00007FF7AFDD197C]\n\t(No symbol) [0x00007FF7AFE14EE7]\n\t(No symbol) [0x00007FF7AFDF602F]\n\t(No symbol) [0x00007FF7AFE128F6]\n\t(No symbol) [0x00007FF7AFDF5D93]\n\t(No symbol) [0x00007FF7AFDC4BDC]\n\t(No symbol) [0x00007FF7AFDC5C64]\n\tGetHandleVerifier [0x00007FF7B02EE16B+3695259]\n\tGetHandleVerifier [0x00007FF7B0346737+4057191]\n\tGetHandleVerifier [0x00007FF7B033E4E3+4023827]\n\tGetHandleVerifier [0x00007FF7B00104F9+689705]\n\t(No symbol) [0x00007FF7AFEEC048]\n\t(No symbol) [0x00007FF7AFEE8044]\n\t(No symbol) [0x00007FF7AFEE81C9]\n\t(No symbol) [0x00007FF7AFED88C4]\n\tBaseThreadInitThunk [0x00007FF8CF7C257D+29]\n\tRtlUserThreadStart [0x00007FF8D04CAA58+40]\n",
     "output_type": "error",
     "traceback": [
      "\u001b[1;31m---------------------------------------------------------------------------\u001b[0m",
      "\u001b[1;31mNoSuchElementException\u001b[0m                    Traceback (most recent call last)",
      "Cell \u001b[1;32mIn[35], line 71\u001b[0m\n\u001b[0;32m     67\u001b[0m periodo_anual\u001b[38;5;241m.\u001b[39mclick()\n\u001b[0;32m     69\u001b[0m time\u001b[38;5;241m.\u001b[39msleep(\u001b[38;5;241m2\u001b[39m)\n\u001b[1;32m---> 71\u001b[0m modulo_85 \u001b[38;5;241m=\u001b[39m driver\u001b[38;5;241m.\u001b[39mfind_element( By\u001b[38;5;241m.\u001b[39mXPATH, \u001b[38;5;124m'\u001b[39m\u001b[38;5;124m/html/body/div[2]/div/div/div[4]/div/form[1]/div[6]/div/table/tbody/tr/td/table/tbody/tr[30]/td[10]/a\u001b[39m\u001b[38;5;124m'\u001b[39m)\n\u001b[0;32m     72\u001b[0m modulo_85\u001b[38;5;241m.\u001b[39mclick()\n\u001b[0;32m     74\u001b[0m \u001b[38;5;66;03m# Guardar el DataFrame en un archivo Excel para el año actual\u001b[39;00m\n",
      "File \u001b[1;32m~\\anaconda3\\envs\\wb\\Lib\\site-packages\\selenium\\webdriver\\remote\\webdriver.py:742\u001b[0m, in \u001b[0;36mWebDriver.find_element\u001b[1;34m(self, by, value)\u001b[0m\n\u001b[0;32m    739\u001b[0m     by \u001b[38;5;241m=\u001b[39m By\u001b[38;5;241m.\u001b[39mCSS_SELECTOR\n\u001b[0;32m    740\u001b[0m     value \u001b[38;5;241m=\u001b[39m \u001b[38;5;124mf\u001b[39m\u001b[38;5;124m'\u001b[39m\u001b[38;5;124m[name=\u001b[39m\u001b[38;5;124m\"\u001b[39m\u001b[38;5;132;01m{\u001b[39;00mvalue\u001b[38;5;132;01m}\u001b[39;00m\u001b[38;5;124m\"\u001b[39m\u001b[38;5;124m]\u001b[39m\u001b[38;5;124m'\u001b[39m\n\u001b[1;32m--> 742\u001b[0m \u001b[38;5;28;01mreturn\u001b[39;00m \u001b[38;5;28mself\u001b[39m\u001b[38;5;241m.\u001b[39mexecute(Command\u001b[38;5;241m.\u001b[39mFIND_ELEMENT, {\u001b[38;5;124m\"\u001b[39m\u001b[38;5;124musing\u001b[39m\u001b[38;5;124m\"\u001b[39m: by, \u001b[38;5;124m\"\u001b[39m\u001b[38;5;124mvalue\u001b[39m\u001b[38;5;124m\"\u001b[39m: value})[\u001b[38;5;124m\"\u001b[39m\u001b[38;5;124mvalue\u001b[39m\u001b[38;5;124m\"\u001b[39m]\n",
      "File \u001b[1;32m~\\anaconda3\\envs\\wb\\Lib\\site-packages\\selenium\\webdriver\\remote\\webdriver.py:348\u001b[0m, in \u001b[0;36mWebDriver.execute\u001b[1;34m(self, driver_command, params)\u001b[0m\n\u001b[0;32m    346\u001b[0m response \u001b[38;5;241m=\u001b[39m \u001b[38;5;28mself\u001b[39m\u001b[38;5;241m.\u001b[39mcommand_executor\u001b[38;5;241m.\u001b[39mexecute(driver_command, params)\n\u001b[0;32m    347\u001b[0m \u001b[38;5;28;01mif\u001b[39;00m response:\n\u001b[1;32m--> 348\u001b[0m     \u001b[38;5;28mself\u001b[39m\u001b[38;5;241m.\u001b[39merror_handler\u001b[38;5;241m.\u001b[39mcheck_response(response)\n\u001b[0;32m    349\u001b[0m     response[\u001b[38;5;124m\"\u001b[39m\u001b[38;5;124mvalue\u001b[39m\u001b[38;5;124m\"\u001b[39m] \u001b[38;5;241m=\u001b[39m \u001b[38;5;28mself\u001b[39m\u001b[38;5;241m.\u001b[39m_unwrap_value(response\u001b[38;5;241m.\u001b[39mget(\u001b[38;5;124m\"\u001b[39m\u001b[38;5;124mvalue\u001b[39m\u001b[38;5;124m\"\u001b[39m, \u001b[38;5;28;01mNone\u001b[39;00m))\n\u001b[0;32m    350\u001b[0m     \u001b[38;5;28;01mreturn\u001b[39;00m response\n",
      "File \u001b[1;32m~\\anaconda3\\envs\\wb\\Lib\\site-packages\\selenium\\webdriver\\remote\\errorhandler.py:229\u001b[0m, in \u001b[0;36mErrorHandler.check_response\u001b[1;34m(self, response)\u001b[0m\n\u001b[0;32m    227\u001b[0m         alert_text \u001b[38;5;241m=\u001b[39m value[\u001b[38;5;124m\"\u001b[39m\u001b[38;5;124malert\u001b[39m\u001b[38;5;124m\"\u001b[39m]\u001b[38;5;241m.\u001b[39mget(\u001b[38;5;124m\"\u001b[39m\u001b[38;5;124mtext\u001b[39m\u001b[38;5;124m\"\u001b[39m)\n\u001b[0;32m    228\u001b[0m     \u001b[38;5;28;01mraise\u001b[39;00m exception_class(message, screen, stacktrace, alert_text)  \u001b[38;5;66;03m# type: ignore[call-arg]  # mypy is not smart enough here\u001b[39;00m\n\u001b[1;32m--> 229\u001b[0m \u001b[38;5;28;01mraise\u001b[39;00m exception_class(message, screen, stacktrace)\n",
      "\u001b[1;31mNoSuchElementException\u001b[0m: Message: no such element: Unable to locate element: {\"method\":\"xpath\",\"selector\":\"/html/body/div[2]/div/div/div[4]/div/form[1]/div[6]/div/table/tbody/tr/td/table/tbody/tr[30]/td[10]/a\"}\n  (Session info: chrome=120.0.6099.217); For documentation on this error, please visit: https://www.selenium.dev/documentation/webdriver/troubleshooting/errors#no-such-element-exception\nStacktrace:\n\tGetHandleVerifier [0x00007FF7B02C2142+3514994]\n\t(No symbol) [0x00007FF7AFEE0CE2]\n\t(No symbol) [0x00007FF7AFD876AA]\n\t(No symbol) [0x00007FF7AFDD1860]\n\t(No symbol) [0x00007FF7AFDD197C]\n\t(No symbol) [0x00007FF7AFE14EE7]\n\t(No symbol) [0x00007FF7AFDF602F]\n\t(No symbol) [0x00007FF7AFE128F6]\n\t(No symbol) [0x00007FF7AFDF5D93]\n\t(No symbol) [0x00007FF7AFDC4BDC]\n\t(No symbol) [0x00007FF7AFDC5C64]\n\tGetHandleVerifier [0x00007FF7B02EE16B+3695259]\n\tGetHandleVerifier [0x00007FF7B0346737+4057191]\n\tGetHandleVerifier [0x00007FF7B033E4E3+4023827]\n\tGetHandleVerifier [0x00007FF7B00104F9+689705]\n\t(No symbol) [0x00007FF7AFEEC048]\n\t(No symbol) [0x00007FF7AFEE8044]\n\t(No symbol) [0x00007FF7AFEE81C9]\n\t(No symbol) [0x00007FF7AFED88C4]\n\tBaseThreadInitThunk [0x00007FF8CF7C257D+29]\n\tRtlUserThreadStart [0x00007FF8D04CAA58+40]\n"
     ]
    }
   ],
   "source": [
    "# Lista de años que deseas procesar\n",
    "lista_anios = ['2004', '2005', '2006', '2007', '2008', '2009', '2010', '2011', '2012', '2013', '2014', '2015', '2016', '2017', '2018', '2019', '2020', '2021', '2022', '2023']\n",
    "# Ruta para guardar los archivos Excel\n",
    "path_static = 'C:\\\\Users\\\\Michael Encalada\\\\Documents\\\\GitHub\\\\QLAB\\\\Taller_12_2023\\\\proposals\\\\Web_Scraping\\\\ZIP'\n",
    "\n",
    "os.makedirs(path_static, exist_ok=True)\n",
    "# Lista para almacenar los nombres de los archivos\n",
    "nombres_archivos = []\n",
    "\n",
    "# Inicializar el navegador web\n",
    "url     = 'https://proyectos.inei.gob.pe/microdatos/'\n",
    "driver  = webdriver.Chrome()        \n",
    "driver.get( url )\n",
    "driver.maximize_window()\n",
    "\n",
    "consulta_encuestas = driver.find_element( By.XPATH, '/html/body/div[1]/div[2]/div/div/div[2]/ul/li[1]/a' )\n",
    "consulta_encuestas.click()\n",
    "\n",
    "time.sleep( 2 )\n",
    "\n",
    "eleccion_enaho = driver.find_element( By.XPATH, '/html/body/div[2]/div/div/div[4]/div/form[1]/div[4]/div/span/span[1]/span/span[2]')\n",
    "eleccion_enaho.click()\n",
    "\n",
    "time.sleep (2)\n",
    "\n",
    "enaho_actualizada = driver.find_element( By.XPATH, '/html/body/span/span/span[2]/ul/li[3]')\n",
    "enaho_actualizada.click()\n",
    "\n",
    "time.sleep (2)\n",
    "\n",
    "no_panel_seleccion = driver.find_element( By.XPATH, '/html/body/div[2]/div/div/div[4]/div/form[1]/div[5]/div[2]/select')\n",
    "no_panel_seleccion.click()\n",
    "\n",
    "time.sleep (2)\n",
    "\n",
    "no_panel  = driver.find_element( By.XPATH, '/html/body/div[2]/div/div/div[4]/div/form[1]/div[5]/div[2]/select/option[2]')\n",
    "no_panel.click()\n",
    "\n",
    "time.sleep (2)\n",
    "\n",
    "anio_seleccion = driver.find_element( By.XPATH, '/html/body/div[2]/div/div/div[4]/div/form[1]/div[5]/div[4]/div[2]/div/select')\n",
    "anio_seleccion.click()\n",
    "\n",
    "anio_seleccion = driver.find_element( By.XPATH, '/html/body/div[2]/div/div/div[4]/div/form[1]/div[5]/div[4]/div[2]/div/select')\n",
    "anio_seleccion.click()\n",
    "\n",
    "time.sleep (2)\n",
    "\n",
    "# Iterar sobre los años\n",
    "# Iterar sobre los años\n",
    "for anio in lista_anios:\n",
    "    # Encontrar el elemento del año por su XPath\n",
    "    xpath_anio = f\"/html/body/div[2]/div/div/div[4]/div/form[1]/div[5]/div[4]/div[2]/div/select/option[{int(anio) - 2002}]\"\n",
    "    anio_element = driver.find_element(By.XPATH, xpath_anio)\n",
    "\n",
    "    # Hacer clic en el elemento del año\n",
    "    anio_element.click()\n",
    "\n",
    "    # Esperar un breve momento para que la página se cargue\n",
    "    time.sleep(5)\n",
    "\n",
    "    # Obtener el HTML de la página después de seleccionar el año\n",
    "    page_html = driver.page_source\n",
    "\n",
    "    # Seleccionar periodo anual \n",
    "    periodo_anual = driver.find_element( By.XPATH, '/html/body/div[2]/div/div/div[4]/div/form[1]/div[5]/div[4]/div[4]/div/select/option[2]')\n",
    "    periodo_anual.click()\n",
    "\n",
    "    time.sleep(2)\n",
    "\n",
    "    modulo_85 = driver.find_element( By.XPATH, '/html/body/div[2]/div/div/div[4]/div/form[1]/div[6]/div/table/tbody/tr/td/table/tbody/tr[30]/td[10]/a')\n",
    "    modulo_85.click()\n",
    "    \n",
    "    # Guardar el DataFrame en un archivo Excel para el año actual\n",
    "    nombre_archivo = f'280-Modulo85_{anio}.zip'\n",
    "    path_table_anio = os.path.join(path_static, nombre_archivo)\n",
    "\n",
    "    # Almacenar el nombre del archivo en la lista\n",
    "    nombres_archivos.append(nombre_archivo)\n",
    "\n",
    "    # Esperar un poco antes de pasar al siguiente año (ajusta según sea necesario)\n",
    "    time.sleep(45)\n",
    "\n",
    "    # Imprimir los nombres de los archivos\n",
    "    print(f\"Nombres de archivos para el año {anio}:\")\n",
    "    for nombre_archivo in nombres_archivos:\n",
    "        print(nombre_archivo)\n",
    "\n",
    "# Cerrar el navegador después de completar el scraping\n",
    "driver.quit()"
   ]
  },
  {
   "cell_type": "markdown",
   "id": "05d5ef9c-b1e5-4820-a110-ab724abefe39",
   "metadata": {},
   "source": [
    "## Sacar archivos dta. de ZIP"
   ]
  },
  {
   "cell_type": "code",
   "execution_count": 45,
   "id": "3194d790-5589-48f1-b02c-7798e33510ca",
   "metadata": {},
   "outputs": [
    {
     "name": "stdout",
     "output_type": "stream",
     "text": [
      "Carpeta ZIP renombrada: 280-Modulo85.zip -> 2004-Modulo85.zip\n",
      "Carpeta ZIP renombrada: 281-Modulo85.zip -> 2005-Modulo85.zip\n",
      "Carpeta ZIP renombrada: 282-Modulo85.zip -> 2006-Modulo85.zip\n",
      "Carpeta ZIP renombrada: 283-Modulo85.zip -> 2007-Modulo85.zip\n",
      "Carpeta ZIP renombrada: 284-Modulo85.zip -> 2008-Modulo85.zip\n",
      "Carpeta ZIP renombrada: 285-Modulo85.zip -> 2009-Modulo85.zip\n"
     ]
    },
    {
     "ename": "FileNotFoundError",
     "evalue": "[WinError 2] El sistema no puede encontrar el archivo especificado: 'C:\\\\Users\\\\Michael Encalada\\\\Documents\\\\GitHub\\\\QLAB\\\\Taller_12_2023\\\\proposals\\\\Web_Scraping\\\\ZIP\\\\286-Modulo85.zip' -> 'C:\\\\Users\\\\Michael Encalada\\\\Documents\\\\GitHub\\\\QLAB\\\\Taller_12_2023\\\\proposals\\\\Web_Scraping\\\\ZIP\\\\2010-Modulo85.zip'",
     "output_type": "error",
     "traceback": [
      "\u001b[1;31m---------------------------------------------------------------------------\u001b[0m",
      "\u001b[1;31mFileNotFoundError\u001b[0m                         Traceback (most recent call last)",
      "Cell \u001b[1;32mIn[45], line 18\u001b[0m\n\u001b[0;32m     15\u001b[0m     ruta_nueva \u001b[38;5;241m=\u001b[39m os\u001b[38;5;241m.\u001b[39mpath\u001b[38;5;241m.\u001b[39mjoin(carpeta_zip, nombre_nuevo)\n\u001b[0;32m     17\u001b[0m     \u001b[38;5;66;03m# Renombrar la carpeta ZIP\u001b[39;00m\n\u001b[1;32m---> 18\u001b[0m     os\u001b[38;5;241m.\u001b[39mrename(ruta_vieja, ruta_nueva)\n\u001b[0;32m     20\u001b[0m     \u001b[38;5;28mprint\u001b[39m(\u001b[38;5;124mf\u001b[39m\u001b[38;5;124m'\u001b[39m\u001b[38;5;124mCarpeta ZIP renombrada: \u001b[39m\u001b[38;5;132;01m{\u001b[39;00mnombre_viejo\u001b[38;5;132;01m}\u001b[39;00m\u001b[38;5;124m -> \u001b[39m\u001b[38;5;132;01m{\u001b[39;00mnombre_nuevo\u001b[38;5;132;01m}\u001b[39;00m\u001b[38;5;124m'\u001b[39m)\n\u001b[0;32m     22\u001b[0m \u001b[38;5;28mprint\u001b[39m(\u001b[38;5;124m'\u001b[39m\u001b[38;5;124mProceso completado.\u001b[39m\u001b[38;5;124m'\u001b[39m)\n",
      "\u001b[1;31mFileNotFoundError\u001b[0m: [WinError 2] El sistema no puede encontrar el archivo especificado: 'C:\\\\Users\\\\Michael Encalada\\\\Documents\\\\GitHub\\\\QLAB\\\\Taller_12_2023\\\\proposals\\\\Web_Scraping\\\\ZIP\\\\286-Modulo85.zip' -> 'C:\\\\Users\\\\Michael Encalada\\\\Documents\\\\GitHub\\\\QLAB\\\\Taller_12_2023\\\\proposals\\\\Web_Scraping\\\\ZIP\\\\2010-Modulo85.zip'"
     ]
    }
   ],
   "source": [
    "import os\n",
    "\n",
    "# Ruta de la carpeta que contiene las carpetas ZIP\n",
    "carpeta_zip = 'C:\\\\Users\\\\Michael Encalada\\\\Documents\\\\GitHub\\\\QLAB\\\\Taller_12_2023\\\\proposals\\\\Web_Scraping\\\\ZIP'\n",
    "\n",
    "# Lista de años correspondientes a la primera parte del nombre\n",
    "lista_anios = [str(anio) for anio in range(2004, 2024)]\n",
    "\n",
    "# Iterar sobre las carpetas ZIP\n",
    "for i, anio in enumerate(lista_anios):\n",
    "    nombre_viejo = f'{280 + i}-Modulo85.zip'\n",
    "    nombre_nuevo = f'{anio}-Modulo85.zip'\n",
    "\n",
    "    ruta_vieja = os.path.join(carpeta_zip, nombre_viejo)\n",
    "    ruta_nueva = os.path.join(carpeta_zip, nombre_nuevo)\n",
    "\n",
    "    # Renombrar la carpeta ZIP\n",
    "    os.rename(ruta_vieja, ruta_nueva)\n",
    "\n",
    "    print(f'Carpeta ZIP renombrada: {nombre_viejo} -> {nombre_nuevo}')\n",
    "\n",
    "print('Proceso completado.')\n"
   ]
  },
  {
   "cell_type": "code",
   "execution_count": 72,
   "id": "43cc6945-fc3f-4994-8eb5-a7bbe67268cd",
   "metadata": {},
   "outputs": [
    {
     "name": "stdout",
     "output_type": "stream",
     "text": [
      "Archivo 'enaho01b-2005-1.dta' movido a 'C:\\Users\\Michael Encalada\\Documents\\GitHub\\QLAB\\Taller_12_2023\\proposals\\Web_Scraping\\datos'\n",
      "Archivo 'enaho01b-2005-2.dta' movido a 'C:\\Users\\Michael Encalada\\Documents\\GitHub\\QLAB\\Taller_12_2023\\proposals\\Web_Scraping\\datos'\n",
      "Archivo 'enaho01b-2005-3.dta' movido a 'C:\\Users\\Michael Encalada\\Documents\\GitHub\\QLAB\\Taller_12_2023\\proposals\\Web_Scraping\\datos'\n",
      "Archivo 'enaho01b-2007-1.dta' movido a 'C:\\Users\\Michael Encalada\\Documents\\GitHub\\QLAB\\Taller_12_2023\\proposals\\Web_Scraping\\datos'\n",
      "Archivo 'enaho01b-2007-2.dta' movido a 'C:\\Users\\Michael Encalada\\Documents\\GitHub\\QLAB\\Taller_12_2023\\proposals\\Web_Scraping\\datos'\n",
      "Archivo 'enaho01b-2009-1.dta' movido a 'C:\\Users\\Michael Encalada\\Documents\\GitHub\\QLAB\\Taller_12_2023\\proposals\\Web_Scraping\\datos'\n",
      "Archivo 'enaho01b-2009-2.dta' movido a 'C:\\Users\\Michael Encalada\\Documents\\GitHub\\QLAB\\Taller_12_2023\\proposals\\Web_Scraping\\datos'\n",
      "Archivo 'enaho01b-2012-1.dta' movido a 'C:\\Users\\Michael Encalada\\Documents\\GitHub\\QLAB\\Taller_12_2023\\proposals\\Web_Scraping\\datos'\n",
      "Archivo 'enaho01b-2012-2.dta' movido a 'C:\\Users\\Michael Encalada\\Documents\\GitHub\\QLAB\\Taller_12_2023\\proposals\\Web_Scraping\\datos'\n",
      "Archivo 'enaho01b-2012-3.dta' movido a 'C:\\Users\\Michael Encalada\\Documents\\GitHub\\QLAB\\Taller_12_2023\\proposals\\Web_Scraping\\datos'\n",
      "Archivo 'enaho01b-2015-1.dta' movido a 'C:\\Users\\Michael Encalada\\Documents\\GitHub\\QLAB\\Taller_12_2023\\proposals\\Web_Scraping\\datos'\n",
      "Archivo 'enaho01b-2015-2.dta' movido a 'C:\\Users\\Michael Encalada\\Documents\\GitHub\\QLAB\\Taller_12_2023\\proposals\\Web_Scraping\\datos'\n",
      "Proceso completado.\n"
     ]
    }
   ],
   "source": [
    "import os\n",
    "import zipfile\n",
    "import shutil\n",
    "\n",
    "# Ruta de la carpeta donde se encuentran los archivos ZIP\n",
    "ruta_carpeta_zip = 'C:\\\\Users\\\\Michael Encalada\\\\Documents\\\\GitHub\\\\QLAB\\\\Taller_12_2023\\\\proposals\\\\Web_Scraping\\\\ZIP'\n",
    "\n",
    "# Ruta de la carpeta donde se guardarán los archivos DTA extraídos\n",
    "ruta_carpeta_dta = 'C:\\\\Users\\\\Michael Encalada\\\\Documents\\\\GitHub\\\\QLAB\\\\Taller_12_2023\\\\proposals\\\\Web_Scraping\\\\datos'\n",
    "os.makedirs(ruta_carpeta_dta, exist_ok=True)\n",
    "\n",
    "# Iterar sobre los archivos ZIP en la carpeta\n",
    "for nombre_zip in os.listdir(ruta_carpeta_zip):\n",
    "    if nombre_zip.endswith('.zip'):\n",
    "        ruta_zip_completa = os.path.join(ruta_carpeta_zip, nombre_zip)\n",
    "\n",
    "        # Crear una carpeta temporal para extraer los archivos\n",
    "        carpeta_temporal = 'temporal_extraction_folder'\n",
    "        os.makedirs(carpeta_temporal, exist_ok=True)\n",
    "\n",
    "        # Extraer el contenido del archivo ZIP en la carpeta temporal\n",
    "        with zipfile.ZipFile(ruta_zip_completa, 'r') as zip_ref:\n",
    "            zip_ref.extractall(carpeta_temporal)\n",
    "\n",
    "        # Mover los archivos .dta a la carpeta de destino\n",
    "        for nombre_archivo in os.listdir(carpeta_temporal):\n",
    "            if nombre_archivo.endswith('.dta'):\n",
    "                ruta_origen = os.path.join(carpeta_temporal, nombre_archivo)\n",
    "                ruta_destino = os.path.join(ruta_carpeta_dta, nombre_archivo)\n",
    "\n",
    "                # Mover el archivo a la carpeta de destino\n",
    "                os.rename(ruta_origen, ruta_destino)\n",
    "                print(f\"Archivo '{nombre_archivo}' movido a '{ruta_carpeta_dta}'\")\n",
    "\n",
    "        # Eliminar la carpeta temporal después de procesar el ZIP\n",
    "        shutil.rmtree(carpeta_temporal)\n",
    "\n",
    "print(\"Proceso completado.\")\n"
   ]
  },
  {
   "cell_type": "markdown",
   "id": "4bb87719-824d-4d65-9a3b-0ba8ec9f5fd6",
   "metadata": {},
   "source": [
    "### Eliminar carpeta ZIP"
   ]
  },
  {
   "cell_type": "code",
   "execution_count": 62,
   "id": "7223e092-c57c-4cc5-8033-0a28987438a6",
   "metadata": {},
   "outputs": [
    {
     "name": "stdout",
     "output_type": "stream",
     "text": [
      "Carpeta C:\\Users\\Michael Encalada\\Documents\\GitHub\\QLAB\\Taller_12_2023\\proposals\\Web_Scraping\\ZIP eliminada exitosamente.\n"
     ]
    }
   ],
   "source": [
    "import shutil\n",
    "\n",
    "# Ruta de la carpeta para eliminar\n",
    "ruta_carpeta = 'C:\\\\Users\\\\Michael Encalada\\\\Documents\\\\GitHub\\\\QLAB\\\\Taller_12_2023\\\\proposals\\\\Web_Scraping\\\\ZIP'\n",
    "\n",
    "try:\n",
    "    shutil.rmtree(ruta_carpeta)\n",
    "    print(f'Carpeta {ruta_carpeta} eliminada exitosamente.')\n",
    "except OSError as e:\n",
    "    print(f'Error al eliminar la carpeta {ruta_carpeta}: {e}')\n"
   ]
  },
  {
   "cell_type": "markdown",
   "id": "d508f8e5-49f0-4bea-84b5-407671aee7da",
   "metadata": {},
   "source": [
    "# FIN DEL PROYECTO"
   ]
  },
  {
   "cell_type": "markdown",
   "id": "583a64f7-2dd4-4011-8f8c-8cc87e0c7827",
   "metadata": {},
   "source": [
    "Archivos correctamente extraidos. "
   ]
  }
 ],
 "metadata": {
  "kernelspec": {
   "display_name": "Python 3 (ipykernel)",
   "language": "python",
   "name": "python3"
  },
  "language_info": {
   "codemirror_mode": {
    "name": "ipython",
    "version": 3
   },
   "file_extension": ".py",
   "mimetype": "text/x-python",
   "name": "python",
   "nbconvert_exporter": "python",
   "pygments_lexer": "ipython3",
   "version": "3.11.5"
  }
 },
 "nbformat": 4,
 "nbformat_minor": 5
}
